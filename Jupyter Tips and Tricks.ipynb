{
 "cells": [
  {
   "cell_type": "markdown",
   "metadata": {
    "slideshow": {
     "slide_type": "slide"
    }
   },
   "source": [
    "\n",
    "\n",
    "# Jupyter Tips & Tricks\n",
    "\n",
    "### Data Science Camp 2017\n",
    "\n",
    "\n",
    "<img src = \"images/logo.jpg\", width=\"400\" align=\"left\">\n",
    "<br><br><br>\n",
    "\n",
    "Ram Narasimhan"
   ]
  },
  {
   "cell_type": "markdown",
   "metadata": {
    "slideshow": {
     "slide_type": "slide"
    }
   },
   "source": [
    "## How many of you are Jupyter Users?\n"
   ]
  },
  {
   "cell_type": "markdown",
   "metadata": {
    "slideshow": {
     "slide_type": "fragment"
    }
   },
   "source": [
    "\n",
    "## RStudio?\n"
   ]
  },
  {
   "attachments": {},
   "cell_type": "markdown",
   "metadata": {
    "slideshow": {
     "slide_type": "slide"
    }
   },
   "source": [
    "\n",
    "<img src = \"images/qualified_quote.jpg\", width=\"500\" align=\"left\">\n",
    "<img src = \"images/nadella_quote.jpg\", width=\"500\" align=\"right\">\n"
   ]
  },
  {
   "cell_type": "markdown",
   "metadata": {
    "collapsed": true,
    "slideshow": {
     "slide_type": "slide"
    }
   },
   "source": [
    "# What we will cover\n",
    "\n",
    "- Two modes. Switching from one to the other...\n",
    "- Keyboard Shortcuts\n",
    "- Make a copy, don't simply rename\n",
    "- [How to make inline anchors](#anchor)"
   ]
  },
  {
   "cell_type": "markdown",
   "metadata": {
    "collapsed": true,
    "slideshow": {
     "slide_type": "fragment"
    }
   },
   "source": [
    "1. What are Jupyter notebooks? Purpose?\n",
    "2. What are its components?\n",
    "3. How to start our own Jupyter Notebook\n",
    "4. Edit mode vs. Command Mode\n",
    "4. Python vs. \"Markdown\"\n",
    "4. Save and Sharing (Exporting) notebooks\n"
   ]
  },
  {
   "cell_type": "markdown",
   "metadata": {
    "slideshow": {
     "slide_type": "slide"
    }
   },
   "source": [
    "# Jupyter Notebook\n",
    "\n",
    "**<div class=\"alert alert-block alert-warning\">A notebook is an interactive document containing code, ouput, text, plots and images.\n",
    "</div> **\n",
    "\n",
    "A notebook is saved in a file with the **`.ipynb extension`**. \n",
    "\n",
    "(This file is a plain text file storing a JSON data structure.)\n",
    "\n",
    "<div class=\"alert alert-block alert-info\">Tip: This is in itself a Jupyter Notebook.</div>"
   ]
  },
  {
   "cell_type": "markdown",
   "metadata": {
    "slideshow": {
     "slide_type": "slide"
    }
   },
   "source": [
    "\n",
    "# <div class=\"alert alert-block alert-warning\"> Section: Basic Jupyter Tips</div>\n"
   ]
  },
  {
   "cell_type": "markdown",
   "metadata": {
    "slideshow": {
     "slide_type": "slide"
    }
   },
   "source": [
    "# Q: From any Notebook, how to get back to the Notebook Dashboard?\n",
    "### To your Jupyter \"Home Page\""
   ]
  },
  {
   "cell_type": "markdown",
   "metadata": {
    "slideshow": {
     "slide_type": "fragment"
    }
   },
   "source": [
    "Tip: Just click on the Jupyter logo at the top left.\n",
    "\n",
    "![](images/logo_click.jpg)"
   ]
  },
  {
   "cell_type": "markdown",
   "metadata": {
    "slideshow": {
     "slide_type": "slide"
    }
   },
   "source": [
    "# Q: How can we tell if the Notebook is busy?"
   ]
  },
  {
   "cell_type": "markdown",
   "metadata": {
    "slideshow": {
     "slide_type": "slide"
    }
   },
   "source": [
    "Here are three ways to tell:\n",
    "\n",
    "The cell will show a \"busy\" indicator (Asterisk) **[*]** \n",
    "\n",
    "![busy](images/cell_busy.jpg)"
   ]
  },
  {
   "cell_type": "markdown",
   "metadata": {
    "slideshow": {
     "slide_type": "slide"
    }
   },
   "source": [
    "The Top Right circle will be filled when busy, empty when idle. ![](images/kernel_busy.jpg)"
   ]
  },
  {
   "cell_type": "markdown",
   "metadata": {
    "slideshow": {
     "slide_type": "slide"
    }
   },
   "source": [
    "In the browser Tab, you will see three dots. ![](images/tab_busy.jpg)"
   ]
  },
  {
   "cell_type": "code",
   "execution_count": null,
   "metadata": {
    "collapsed": true,
    "slideshow": {
     "slide_type": "slide"
    }
   },
   "outputs": [],
   "source": [
    "#demoing cell/kernel and tab getting busy...\n",
    "import time \n",
    "time.sleep(10)"
   ]
  },
  {
   "cell_type": "markdown",
   "metadata": {
    "slideshow": {
     "slide_type": "slide"
    }
   },
   "source": [
    "\n",
    "# <div class=\"alert alert-block alert-warning\"> Section: Editing Related Tips </div>\n"
   ]
  },
  {
   "cell_type": "markdown",
   "metadata": {
    "slideshow": {
     "slide_type": "slide"
    }
   },
   "source": [
    "# Q: How can we tell which mode we are in?\n"
   ]
  },
  {
   "cell_type": "markdown",
   "metadata": {
    "slideshow": {
     "slide_type": "slide"
    }
   },
   "source": [
    "# In a notebook, you can only be in one of 2 MODES"
   ]
  },
  {
   "cell_type": "markdown",
   "metadata": {
    "slideshow": {
     "slide_type": "fragment"
    }
   },
   "source": [
    "The **Edit mode** to write code (the selected cell has a green border, and a pen icon appears at the top right of the interface). Click inside a cell to enable the edit mode for this cell (you need to double-click with Markdown cells)."
   ]
  },
  {
   "cell_type": "markdown",
   "metadata": {
    "slideshow": {
     "slide_type": "fragment"
    }
   },
   "source": [
    "Use the **Command mode** to operate on cells (the selected cell has a gray border, and there is no pencil icon). Click outside the text area of a cell to enable the command mode (you can also press the Esc key)."
   ]
  },
  {
   "cell_type": "markdown",
   "metadata": {
    "slideshow": {
     "slide_type": "slide"
    }
   },
   "source": [
    "\n",
    "<img src = \"images/jupyter/j2.png\", align=\"left\">"
   ]
  },
  {
   "cell_type": "markdown",
   "metadata": {
    "slideshow": {
     "slide_type": "slide"
    }
   },
   "source": [
    "Here are the main components of the interface, from top to bottom:\n",
    "\n",
    "- The **notebook name**, which you can change by clicking on it. This is also the name of the .ipynb file.\n",
    "- The **Menu bar** gives you access to several actions pertaining to either the notebook or the kernel.\n",
    "- To the right of the menu bar is the **Kernel name**. You can change the kernel language of your notebook from the Kernel menu.\n",
    "- The **Toolbar** contains icons for common actions. The dropdown menu showing Code lets you change the type of a cell."
   ]
  },
  {
   "cell_type": "markdown",
   "metadata": {
    "slideshow": {
     "slide_type": "slide"
    }
   },
   "source": [
    "There are two main types of cells: Markdown cells and code cells, and they are described as follows:"
   ]
  },
  {
   "cell_type": "markdown",
   "metadata": {
    "slideshow": {
     "slide_type": "fragment"
    }
   },
   "source": [
    "A **Markdown cell** contains rich text. In addition to classic formatting options like bold or italics, we can add links, images, HTML elements, mathematical equations etc."
   ]
  },
  {
   "cell_type": "markdown",
   "metadata": {
    "slideshow": {
     "slide_type": "fragment"
    }
   },
   "source": [
    "A **code cell** contains code to be executed by the kernel. The programming language corresponds to the kernel's language. We will only use Python in this course.\n"
   ]
  },
  {
   "cell_type": "markdown",
   "metadata": {
    "slideshow": {
     "slide_type": "slide"
    }
   },
   "source": [
    "\n",
    "# <div class=\"alert alert-block alert-warning\"> Section: Cell Related Tips </div>\n"
   ]
  },
  {
   "cell_type": "markdown",
   "metadata": {
    "slideshow": {
     "slide_type": "slide"
    }
   },
   "source": [
    "Here are a few keyboard shortcuts when a cell is selected:\n",
    "\n",
    "- Ctrl + Enter: run the cell\n",
    "- Shift + Enter: run the cell and select the cell below\n",
    "- Alt + Enter: run the cell and insert a new cell below\n",
    "- Ctrl + S: save the notebook"
   ]
  },
  {
   "cell_type": "markdown",
   "metadata": {
    "slideshow": {
     "slide_type": "slide"
    }
   },
   "source": [
    "# In a cell type \n",
    "`print(hello world!\")`\n",
    "\n",
    "Run this cell.\n",
    "\n",
    "Make a copy of this cell."
   ]
  },
  {
   "cell_type": "markdown",
   "metadata": {
    "slideshow": {
     "slide_type": "slide"
    }
   },
   "source": [
    "# Getting Help\n",
    "\n",
    "Jupyter comes pre-packaged with Excellent Help. \n",
    "All we have to do is look!"
   ]
  },
  {
   "cell_type": "markdown",
   "metadata": {
    "slideshow": {
     "slide_type": "slide"
    }
   },
   "source": [
    "\n",
    "<img src = \"images/jupyter/j6.png\", align=\"left\">"
   ]
  },
  {
   "cell_type": "markdown",
   "metadata": {
    "slideshow": {
     "slide_type": "slide"
    }
   },
   "source": [
    "# <div class=\"alert alert-block alert-success\"> Embedding Pictures   </div>"
   ]
  },
  {
   "cell_type": "markdown",
   "metadata": {
    "slideshow": {
     "slide_type": "slide"
    }
   },
   "source": [
    "\n",
    "# <div class=\"alert alert-block alert-warning\"> Section: Notebook-Related Tips </div>\n"
   ]
  },
  {
   "cell_type": "markdown",
   "metadata": {
    "slideshow": {
     "slide_type": "slide"
    }
   },
   "source": [
    "\n",
    "# <div class=\"alert alert-block alert-warning\"> Section: Aesthetics: Look & Feel- Related Tips </div>\n"
   ]
  },
  {
   "cell_type": "markdown",
   "metadata": {
    "slideshow": {
     "slide_type": "slide"
    }
   },
   "source": [
    "\n",
    "# <div class=\"alert alert-block alert-warning\"> Section: HTML-Related Jupyter Tips </div>\n"
   ]
  },
  {
   "cell_type": "markdown",
   "metadata": {
    "collapsed": true,
    "slideshow": {
     "slide_type": "slide"
    }
   },
   "source": [
    "[section title](#section_ID)"
   ]
  },
  {
   "cell_type": "markdown",
   "metadata": {
    "collapsed": true,
    "slideshow": {
     "slide_type": "slide"
    }
   },
   "source": [
    "__[link text](http://url)__ : External Link\n"
   ]
  },
  {
   "cell_type": "markdown",
   "metadata": {
    "slideshow": {
     "slide_type": "slide"
    }
   },
   "source": [
    "<a id =\"anchor\"></a>\n",
    "\n",
    "## Inline anchors. \n",
    "\n",
    "These can be quite useful in Navigating a large notebook. In a **Markdown cell**, which is the target cell, simply place an anchor tag, with a unique ID.\n",
    "\n",
    "`<a id = \"id_name\"></a>` This is the *target* cell.\n",
    "\n",
    "In any other Markdown cell, to provide a link to the target, add: \n",
    "\n",
    "`[Description of Target](#id_name)` Now when you click on the link, it will jump straight to the Target cell.\n",
    "\n"
   ]
  },
  {
   "cell_type": "markdown",
   "metadata": {
    "slideshow": {
     "slide_type": "slide"
    }
   },
   "source": [
    "\n",
    "# <div class=\"alert alert-block alert-warning\"> Section: Cell Magic & Shell Related Jupyter Tips </div>\n"
   ]
  },
  {
   "cell_type": "markdown",
   "metadata": {
    "slideshow": {
     "slide_type": "slide"
    }
   },
   "source": [
    "\n",
    "# <div class=\"alert alert-block alert-warning\"> Section: Python-Related Jupyter Tips </div>\n"
   ]
  },
  {
   "cell_type": "markdown",
   "metadata": {},
   "source": [
    "### To embed a picture in Markdown"
   ]
  },
  {
   "cell_type": "markdown",
   "metadata": {},
   "source": [
    "![Image of dtree](https://raw.githubusercontent.com/Ram-N/images/master/dtree.JPG)\n"
   ]
  },
  {
   "cell_type": "markdown",
   "metadata": {},
   "source": [
    "### To embed a picture using HTML (ipython code as opposed to Markdown)"
   ]
  },
  {
   "cell_type": "code",
   "execution_count": null,
   "metadata": {},
   "outputs": [],
   "source": [
    "from IPython.display import Image\n",
    "from IPython.core.display import HTML \n",
    "PATH = \"Py Library/\"\n",
    "Image(filename = PATH+\"dtree_with_prob.JPG\", width=600, height=400)"
   ]
  },
  {
   "cell_type": "markdown",
   "metadata": {
    "slideshow": {
     "slide_type": "slide"
    }
   },
   "source": [
    "# Rename your notebook to some other name.\n"
   ]
  },
  {
   "cell_type": "markdown",
   "metadata": {
    "slideshow": {
     "slide_type": "slide"
    }
   },
   "source": [
    "Try to:\n",
    "\n",
    "# Turn off the Header. (Bring it back on)\n",
    "\n",
    "# Turn off the Toolbar. (Bring it back on)\n"
   ]
  },
  {
   "cell_type": "markdown",
   "metadata": {
    "slideshow": {
     "slide_type": "slide"
    }
   },
   "source": [
    "## Save your notebook.\n",
    "\n",
    "## Go and see which Notebooks are 'active'"
   ]
  },
  {
   "cell_type": "markdown",
   "metadata": {
    "slideshow": {
     "slide_type": "slide"
    }
   },
   "source": [
    "A notebook is persistent (it's a file), whereas a kernel may be closed at the end of an interactive session.\n",
    "\n",
    "When a notebook is re-opened, it needs to be re-executed."
   ]
  },
  {
   "cell_type": "markdown",
   "metadata": {},
   "source": [
    "# References & Acknowledgements\n",
    "\n",
    "- https://www.packtpub.com/books/content/basics-jupyter-notebook-and-\n",
    "- Jupyter Notebook interface explained at http://jupyter-notebook.readthedocs.org/en/latest/notebook.html"
   ]
  },
  {
   "cell_type": "markdown",
   "metadata": {
    "slideshow": {
     "slide_type": "slide"
    }
   },
   "source": [
    "<a id=\"section_ID\"></a>\n",
    "# Subsection"
   ]
  },
  {
   "cell_type": "markdown",
   "metadata": {
    "slideshow": {
     "slide_type": "slide"
    }
   },
   "source": [
    "![Questions](images/questions.png)"
   ]
  },
  {
   "cell_type": "markdown",
   "metadata": {},
   "source": [
    "<div class=\"alert alert-block alert-info\">Tip: Use blue boxes for Tips and notes. If it’s a note, you don’t have to include the word “Note”.</div>"
   ]
  },
  {
   "cell_type": "markdown",
   "metadata": {},
   "source": [
    "<div class=\"alert alert-block alert-warning\">Example: Use yellow boxes for examples that are not inside code cells, or use for mathematical formulas if needed.</div>\n",
    "<div class=\"alert alert-block alert-success\">Up to you: Use green boxes sparingly, and only for some specific purpose that the other boxes can't cover. For example, if you have a lot of related content to link to, maybe you decide to use green boxes for related links from each section of a notebook. </div>\n",
    "\n",
    "<div class=\"alert alert-block alert-danger\">**Just don't: In general, just avoid the red boxes.**</div>"
   ]
  },
  {
   "cell_type": "markdown",
   "metadata": {
    "collapsed": true
   },
   "source": [
    "# Appendix\n",
    "\n",
    "Here are a few things about Jupyter that are useful, but not tips per se.\n",
    "I am including them here in the Appendix, in case they are useful for some."
   ]
  },
  {
   "cell_type": "markdown",
   "metadata": {
    "slideshow": {
     "slide_type": "slide"
    }
   },
   "source": [
    "# Basics: before we get to the tips\n",
    "\n",
    "If you are using Jupyter, skip this section and go directly to the Tips"
   ]
  },
  {
   "cell_type": "markdown",
   "metadata": {
    "slideshow": {
     "slide_type": "slide"
    }
   },
   "source": [
    "# The dashboard contains 3 tabs:\n",
    "\n",
    "### Files: shows all files and notebooks in the current directory\n",
    "### Running: shows all kernels currently running on your computer\n",
    "### Clusters: lets you launch kernels for parallel computing"
   ]
  },
  {
   "cell_type": "markdown",
   "metadata": {
    "slideshow": {
     "slide_type": "slide"
    }
   },
   "source": [
    "\n",
    "<img src = \"images/jupyter/j3.png\", align=\"left\">"
   ]
  },
  {
   "cell_type": "markdown",
   "metadata": {
    "slideshow": {
     "slide_type": "slide"
    }
   },
   "source": [
    "# To start a New Notebook, click the \"NEW\" dropdown... (top right)"
   ]
  },
  {
   "cell_type": "markdown",
   "metadata": {
    "slideshow": {
     "slide_type": "slide"
    }
   },
   "source": [
    "\n",
    "<img src = \"images/jupyter/j4.png\", align=\"left\">"
   ]
  },
  {
   "cell_type": "markdown",
   "metadata": {
    "slideshow": {
     "slide_type": "slide"
    }
   },
   "source": [
    "# Cells \n",
    "\n",
    "These are the basic blocks of a Jupyter Notebook.\n",
    "Inside each cell, you can enter text (Python Code) and when you execute the code (Run it), you will see the cell output.\n",
    "\n",
    "All Python cells (code cells) have a sequence number."
   ]
  },
  {
   "cell_type": "markdown",
   "metadata": {
    "slideshow": {
     "slide_type": "slide"
    }
   },
   "source": [
    "\n",
    "<img src = \"images/jupyter/j5.png\", width=700, align=\"left\">"
   ]
  },
  {
   "cell_type": "markdown",
   "metadata": {
    "slideshow": {
     "slide_type": "slide"
    }
   },
   "source": [
    "# The Built in \"User Interface Tour\" is quite good. "
   ]
  },
  {
   "cell_type": "code",
   "execution_count": null,
   "metadata": {
    "collapsed": true
   },
   "outputs": [],
   "source": []
  },
  {
   "cell_type": "markdown",
   "metadata": {
    "slideshow": {
     "slide_type": "slide"
    }
   },
   "source": [
    "\n",
    "<img src = \"images/jupyter/j10.png\", align=\"left\">"
   ]
  },
  {
   "cell_type": "markdown",
   "metadata": {
    "slideshow": {
     "slide_type": "slide"
    }
   },
   "source": [
    "A **kernel** is a process running an interactive session. When using Jupyter, this kernel is a Python process. There are kernels in many languages other than Python.\n",
    "\n",
    "In Jupyter, notebooks and kernels are strongly separated. A notebook is a file, whereas a kernel is a process. The kernel receives snippets of code from the Notebook interface, executes them, and sends the outputs and possible errors back to the Notebook interface. "
   ]
  }
 ],
 "metadata": {
  "celltoolbar": "Slideshow",
  "kernelspec": {
   "display_name": "Python 3",
   "language": "python",
   "name": "python3"
  },
  "language_info": {
   "codemirror_mode": {
    "name": "ipython",
    "version": 3
   },
   "file_extension": ".py",
   "mimetype": "text/x-python",
   "name": "python",
   "nbconvert_exporter": "python",
   "pygments_lexer": "ipython3",
   "version": "3.6.0"
  }
 },
 "nbformat": 4,
 "nbformat_minor": 2
}
