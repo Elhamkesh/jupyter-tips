{
 "cells": [
  {
   "cell_type": "markdown",
   "metadata": {
    "slideshow": {
     "slide_type": "slide"
    }
   },
   "source": [
    "\n",
    "\n",
    "# Jupyter Tips & Tricks\n",
    "\n",
    "**Data Science Camp 2017 **\n",
    "## Github: https://github.com/Ram-N/jupyter-tips\n",
    "\n",
    "\n",
    "<img src = \"images/logo.jpg\", width=\"400\" align=\"left\">\n",
    "<br><br><br>\n",
    "\n",
    "Ram Narasimhan"
   ]
  },
  {
   "cell_type": "markdown",
   "metadata": {
    "slideshow": {
     "slide_type": "slide"
    }
   },
   "source": [
    "If you don't have Jupyter Installed:\n",
    "\n",
    "# https://try.jupyter.org/\n",
    "\n",
    "### Go to the New button and launch a Python 3 notebook"
   ]
  },
  {
   "cell_type": "markdown",
   "metadata": {
    "slideshow": {
     "slide_type": "slide"
    }
   },
   "source": [
    "<img src= \"images/hands.png\", align=\"right\" width=100>\n",
    "## How many of you are Jupyter Users?\n"
   ]
  },
  {
   "cell_type": "markdown",
   "metadata": {
    "slideshow": {
     "slide_type": "fragment"
    }
   },
   "source": [
    "### Used it for > 1 year"
   ]
  },
  {
   "cell_type": "markdown",
   "metadata": {
    "slideshow": {
     "slide_type": "fragment"
    }
   },
   "source": [
    "### Used it for >3 years"
   ]
  },
  {
   "cell_type": "markdown",
   "metadata": {
    "slideshow": {
     "slide_type": "fragment"
    }
   },
   "source": [
    "### Used it for > 5years?"
   ]
  },
  {
   "cell_type": "markdown",
   "metadata": {
    "slideshow": {
     "slide_type": "slide"
    }
   },
   "source": [
    "\n",
    "## Users of RStudio?\n"
   ]
  },
  {
   "cell_type": "markdown",
   "metadata": {
    "slideshow": {
     "slide_type": "slide"
    }
   },
   "source": [
    "\n",
    "<img src = \"images/qualified_quote.jpg\", width=\"500\" align=\"left\">\n",
    "<img src = \"images/nadella_quote.jpg\", width=\"500\" align=\"right\">\n"
   ]
  },
  {
   "cell_type": "markdown",
   "metadata": {
    "slideshow": {
     "slide_type": "slide"
    }
   },
   "source": [
    "# Jupyter Notebook\n",
    "\n",
    "**<div class=\"alert alert-block alert-warning\">A notebook is an interactive document containing code, ouput, text, plots and images.\n",
    "</div> **\n",
    "\n",
    "A notebook is saved in a file with the **`.ipynb extension`**. \n",
    "\n",
    "(This file is a plain text file storing a JSON data structure.)\n",
    "\n",
    "<div class=\"alert alert-block alert-info\">Tip: This is in itself a Jupyter Notebook.</div>"
   ]
  },
  {
   "cell_type": "markdown",
   "metadata": {
    "collapsed": true,
    "slideshow": {
     "slide_type": "slide"
    }
   },
   "source": [
    "# What we will cover\n",
    "\n",
    "- [Basic Jupyter Tips](#jupyter)\n",
    "- [Basic Editing Tips](#editing)\n",
    "- [Cell-Related Tips](#cell)\n",
    "- [Tips related to Getting Help](#help)\n",
    "- [Notebook-related Tips](#nbk)\n",
    "- [Aesthetics-Related Tips](#aes)\n",
    "- [HTML-Related Tips](#html)\n",
    "- [Shell-related Tips](#shell)\n",
    "- [Python-related Jupyter Tips](#python)\n"
   ]
  },
  {
   "cell_type": "markdown",
   "metadata": {
    "slideshow": {
     "slide_type": "slide"
    }
   },
   "source": [
    "<a id=\"jupyter\"></a>\n",
    "# <div class=\"alert alert-block alert-warning\"> Section: Basic Jupyter Tips</div>\n"
   ]
  },
  {
   "cell_type": "markdown",
   "metadata": {
    "slideshow": {
     "slide_type": "slide"
    }
   },
   "source": [
    "# Q: From any Notebook, how to get back to you Jupyter Home?\n",
    "\n",
    "### Your Jupyter \"Home Page\" is officially known as the Notebooks Dashboard"
   ]
  },
  {
   "cell_type": "markdown",
   "metadata": {
    "slideshow": {
     "slide_type": "fragment"
    }
   },
   "source": [
    "Tip: Just click on the Jupyter logo at the top left.\n",
    "\n",
    "![](images/logo_click.jpg)"
   ]
  },
  {
   "cell_type": "markdown",
   "metadata": {
    "slideshow": {
     "slide_type": "slide"
    }
   },
   "source": [
    "# Q: How can we tell if the Notebook is busy?"
   ]
  },
  {
   "cell_type": "markdown",
   "metadata": {
    "slideshow": {
     "slide_type": "slide"
    }
   },
   "source": [
    "Here are three ways to tell:\n",
    "\n",
    "The cell will show a \"busy\" indicator (Asterisk) **[*]** \n",
    "\n",
    "![busy](images/cell_busy.jpg)"
   ]
  },
  {
   "cell_type": "markdown",
   "metadata": {
    "slideshow": {
     "slide_type": "slide"
    }
   },
   "source": [
    "<img src=\"images/kernel_busy.jpg\", width=400, align=\"right\">\n",
    "<br><br><br>\n",
    "The Top Right circle will be filled when busy, empty when idle. "
   ]
  },
  {
   "cell_type": "markdown",
   "metadata": {
    "slideshow": {
     "slide_type": "slide"
    }
   },
   "source": [
    "In the browser Tab, you will see three dots. ![](images/tab_busy.jpg)"
   ]
  },
  {
   "cell_type": "code",
   "execution_count": null,
   "metadata": {
    "collapsed": true,
    "slideshow": {
     "slide_type": "slide"
    }
   },
   "outputs": [],
   "source": [
    "#demoing cell/kernel and tab getting busy...\n",
    "import time \n",
    "time.sleep(10)"
   ]
  },
  {
   "cell_type": "markdown",
   "metadata": {
    "slideshow": {
     "slide_type": "slide"
    }
   },
   "source": [
    "<a id=\"editing\"></a>\n",
    "# <div class=\"alert alert-block alert-warning\"> Section: Editing Related Tips </div>\n"
   ]
  },
  {
   "cell_type": "markdown",
   "metadata": {
    "slideshow": {
     "slide_type": "slide"
    }
   },
   "source": [
    "# In a notebook, you can only be in one of 2 MODES"
   ]
  },
  {
   "cell_type": "markdown",
   "metadata": {
    "slideshow": {
     "slide_type": "fragment"
    }
   },
   "source": [
    "The **Edit mode** to write code (the selected cell has a green border, and a pen icon appears at the top right of the interface). Click inside a cell to enable the edit mode for this cell (you need to double-click with Markdown cells)."
   ]
  },
  {
   "cell_type": "markdown",
   "metadata": {
    "slideshow": {
     "slide_type": "fragment"
    }
   },
   "source": [
    "Use the **Command mode** to operate on cells (the selected cell has a gray border, and there is no pencil icon). Click outside the text area of a cell to enable the command mode (you can also press the Esc key)."
   ]
  },
  {
   "cell_type": "markdown",
   "metadata": {
    "slideshow": {
     "slide_type": "slide"
    }
   },
   "source": [
    "### Cell Related Tip\n",
    "\n",
    "# Q: How can we tell which mode we are in?\n"
   ]
  },
  {
   "cell_type": "markdown",
   "metadata": {
    "slideshow": {
     "slide_type": "fragment"
    }
   },
   "source": [
    "Tip: You can tell it in at least two ways.\n",
    "\n",
    "Look at the color of your cell border.\n",
    "\n",
    "Look at the Edit (or the Pencil Icon) at the top left"
   ]
  },
  {
   "cell_type": "markdown",
   "metadata": {
    "slideshow": {
     "slide_type": "slide"
    }
   },
   "source": [
    "### Cell Related Tip\n",
    "# Q: How can we switch from one mode to the other?\n"
   ]
  },
  {
   "cell_type": "markdown",
   "metadata": {
    "slideshow": {
     "slide_type": "fragment"
    }
   },
   "source": [
    "Tip: To get to the command mode, just press the ESC key <br>\n",
    "\n",
    "To get to the Edit mode, just click (or double click) the cell, or select the Cell and hit `Enter`.\n",
    "\n"
   ]
  },
  {
   "cell_type": "markdown",
   "metadata": {
    "slideshow": {
     "slide_type": "slide"
    }
   },
   "source": [
    "There are two main types of cells: Markdown cells and code cells:"
   ]
  },
  {
   "cell_type": "markdown",
   "metadata": {
    "slideshow": {
     "slide_type": "fragment"
    }
   },
   "source": [
    "A **Markdown cell** contains rich text. In addition to classic formatting options like bold or italics, we can add links, images, HTML elements, mathematical equations etc."
   ]
  },
  {
   "cell_type": "markdown",
   "metadata": {
    "slideshow": {
     "slide_type": "fragment"
    }
   },
   "source": [
    "A **code cell** contains code to be executed by the kernel. The programming language corresponds to the kernel's language. We will only use Python in this course.\n"
   ]
  },
  {
   "cell_type": "markdown",
   "metadata": {
    "slideshow": {
     "slide_type": "slide"
    }
   },
   "source": [
    "<a id=\"cell\"></a>\n",
    "# <div class=\"alert alert-block alert-warning\"> Section: Cell Related Tips </div>\n"
   ]
  },
  {
   "cell_type": "markdown",
   "metadata": {
    "slideshow": {
     "slide_type": "slide"
    }
   },
   "source": [
    "### <font color='blue'> Cell-Related Tip (CELL)</font>\n",
    "\n",
    "\n",
    "Q: How to Add a new cell?\n",
    "    - Above current cell?\n",
    "    - Below current cell\n",
    "\n",
    "Q: How to Delete a cell?\n",
    "    Tip: Command-mode DD, but can also use command-mode-X to cut it.\n",
    "\n",
    "Q. How to Copy and Paste a cell?"
   ]
  },
  {
   "cell_type": "markdown",
   "metadata": {
    "slideshow": {
     "slide_type": "slide"
    }
   },
   "source": [
    "### Mini-exercise...\n",
    "\n",
    "# In an empty cell type \n",
    "`print(hello world!\")` # print \"hello world\" if you are running Python 2.0\n",
    "\n",
    "Run this cell.\n",
    "\n",
    "Now, make a copy of this cell."
   ]
  },
  {
   "cell_type": "markdown",
   "metadata": {
    "slideshow": {
     "slide_type": "slide"
    }
   },
   "source": [
    "Q. How to Execute a cell?\n",
    "\n",
    "Q. Run (execute) a cell and stay in the same cell?"
   ]
  },
  {
   "cell_type": "markdown",
   "metadata": {
    "slideshow": {
     "slide_type": "slide"
    }
   },
   "source": [
    "Here are a few keyboard shortcuts when a cell is selected:\n",
    "\n",
    "- Ctrl + Enter: run the cell\n",
    "- Shift + Enter: run the cell and select the cell below\n",
    "- Alt + Enter: run the cell and insert a new cell below\n",
    "- Ctrl + S: save the notebook"
   ]
  },
  {
   "cell_type": "markdown",
   "metadata": {
    "slideshow": {
     "slide_type": "slide"
    }
   },
   "source": [
    "### <font color='blue'> Cell-Related Tip (CELL)</font>\n",
    "\n",
    "# Q: How to Hide (minimize) really long output?\n",
    "\n",
    "Tip: Double click the side to minimize the output...\n"
   ]
  },
  {
   "cell_type": "markdown",
   "metadata": {
    "slideshow": {
     "slide_type": "slide"
    }
   },
   "source": [
    "### <font color='blue'> Cell-Related Tip (CELL)</font>\n",
    "\n",
    "\n",
    "## Q: How to use Tab-completion?\n",
    "\n",
    "\n",
    "You can use Tab in Jupyter. It will fill the text, if possible. (Can be very useful)\n",
    "![Tab help](images/jupyter_tab_help2.JPG)"
   ]
  },
  {
   "cell_type": "markdown",
   "metadata": {
    "slideshow": {
     "slide_type": "slide"
    }
   },
   "source": [
    "### <font color='blue'>  Cell-Related Tip (CELL)</font>\n",
    "\n",
    "## Q: How to see which arguments are available in a function call?"
   ]
  },
  {
   "cell_type": "markdown",
   "metadata": {
    "slideshow": {
     "slide_type": "fragment"
    }
   },
   "source": [
    "### Tip: type the function call, open parenthesis and then hit Tab\n",
    "    "
   ]
  },
  {
   "cell_type": "code",
   "execution_count": null,
   "metadata": {
    "slideshow": {
     "slide_type": "slide"
    }
   },
   "outputs": [],
   "source": [
    "print() #now hit tab. It will show the arguments at the very top of a big dropdown"
   ]
  },
  {
   "cell_type": "markdown",
   "metadata": {
    "slideshow": {
     "slide_type": "slide"
    }
   },
   "source": [
    "### CELL TIP \n",
    "# Q: What is the difference between Cell Output and Kernel Output?"
   ]
  },
  {
   "cell_type": "code",
   "execution_count": null,
   "metadata": {
    "scrolled": true,
    "slideshow": {
     "slide_type": "slide"
    }
   },
   "outputs": [],
   "source": [
    "x = 3\n",
    "print(x)\n",
    "\n",
    "def abc():\n",
    "    return(1)\n",
    "\n",
    "abc()"
   ]
  },
  {
   "cell_type": "markdown",
   "metadata": {
    "slideshow": {
     "slide_type": "slide"
    }
   },
   "source": [
    "### CELL TIP \n",
    "# Q: When is Kernel Output preferred, over Cell Output?\n",
    "What is the difference between Cell Output and Kernel Output?"
   ]
  },
  {
   "cell_type": "markdown",
   "metadata": {
    "slideshow": {
     "slide_type": "slide"
    }
   },
   "source": [
    "If you use cell output, then that has to be taken care of if you make your notebook into a Python script. Cell output is very useful for interactively checking things, debugging etc."
   ]
  },
  {
   "cell_type": "markdown",
   "metadata": {
    "slideshow": {
     "slide_type": "slide"
    }
   },
   "source": [
    "### CELL TIP \n",
    "\n",
    "# Q: How to suppress Cell Output?\n"
   ]
  },
  {
   "cell_type": "code",
   "execution_count": null,
   "metadata": {
    "collapsed": true,
    "scrolled": true,
    "slideshow": {
     "slide_type": "slide"
    }
   },
   "outputs": [],
   "source": [
    "#Just use a semi-colon. Useful if you are running a whole lot of cells at one time and are not interested in each output\n",
    "x = 3\n",
    "#print(x)\n",
    "x;\n"
   ]
  },
  {
   "cell_type": "markdown",
   "metadata": {
    "slideshow": {
     "slide_type": "slide"
    }
   },
   "source": [
    "<a id=\"help\"></a>\n",
    "# <div class=\"alert alert-block alert-warning\"> Section: Tips related to Getting Help</div>\n",
    "\n",
    "Jupyter comes pre-packaged with Excellent Help. \n",
    "All we have to do is know where to look!"
   ]
  },
  {
   "cell_type": "markdown",
   "metadata": {
    "slideshow": {
     "slide_type": "slide"
    }
   },
   "source": [
    "\n",
    "<img src = \"images/jupyter/j6.png\", align=\"left\">"
   ]
  },
  {
   "cell_type": "markdown",
   "metadata": {
    "slideshow": {
     "slide_type": "slide"
    }
   },
   "source": [
    "### <font color='blue'>  Help-Related Tip (HELP-2)</font>\n",
    "\n",
    "# Q: How to bring up Keyboard Shortcuts?\n",
    "\n"
   ]
  },
  {
   "cell_type": "markdown",
   "metadata": {
    "slideshow": {
     "slide_type": "slide"
    }
   },
   "source": [
    "## Tip: Just type the letter 'H'\n",
    "\n",
    "Note: Also point out the Command Palette"
   ]
  },
  {
   "cell_type": "markdown",
   "metadata": {
    "slideshow": {
     "slide_type": "slide"
    }
   },
   "source": [
    "### <font color='blue'>  Help-Related Tip (HELP-3)</font>\n",
    "\n",
    "\n",
    "# Q: At least 3 ways to get Help in Jupyter\n",
    "\n"
   ]
  },
  {
   "cell_type": "code",
   "execution_count": null,
   "metadata": {
    "collapsed": true,
    "slideshow": {
     "slide_type": "slide"
    }
   },
   "outputs": [],
   "source": [
    "?print"
   ]
  },
  {
   "cell_type": "code",
   "execution_count": null,
   "metadata": {
    "collapsed": true,
    "slideshow": {
     "slide_type": "slide"
    }
   },
   "outputs": [],
   "source": [
    "??print"
   ]
  },
  {
   "cell_type": "code",
   "execution_count": null,
   "metadata": {
    "slideshow": {
     "slide_type": "slide"
    }
   },
   "outputs": [],
   "source": [
    "help(print)"
   ]
  },
  {
   "cell_type": "markdown",
   "metadata": {
    "slideshow": {
     "slide_type": "slide"
    }
   },
   "source": [
    "# <div class=\"alert alert-block alert-success\"> To check the version of Jupyter, simply go to the Help menu and select \"About\"\n",
    "\n",
    "<img src = \"images/jupyter_version.jpg\", align=\"left\">"
   ]
  },
  {
   "cell_type": "code",
   "execution_count": null,
   "metadata": {
    "slideshow": {
     "slide_type": "slide"
    }
   },
   "outputs": [],
   "source": [
    "# To get help on ANY command, just type help(name-of-the-command)\n",
    "help(round)"
   ]
  },
  {
   "cell_type": "markdown",
   "metadata": {
    "slideshow": {
     "slide_type": "slide"
    }
   },
   "source": [
    "### HELP-RELATED TIP \n",
    "\n",
    "# Q: How to see which methods are available in a module?"
   ]
  },
  {
   "cell_type": "markdown",
   "metadata": {
    "slideshow": {
     "slide_type": "fragment"
    }
   },
   "source": [
    "### Tip: type the module, then hit Tab (Import the module first)\n",
    "    "
   ]
  },
  {
   "cell_type": "code",
   "execution_count": null,
   "metadata": {
    "collapsed": true,
    "slideshow": {
     "slide_type": "slide"
    }
   },
   "outputs": [],
   "source": [
    "import sys\n",
    "sys. #now hit tab. It will show the arguments at the very top of a big dropdown"
   ]
  },
  {
   "cell_type": "markdown",
   "metadata": {
    "slideshow": {
     "slide_type": "slide"
    }
   },
   "source": [
    "<a id=\"nbk\"></a>\n",
    "# <div class=\"alert alert-block alert-warning\"> Section: Notebook-Related Tips </div>\n"
   ]
  },
  {
   "cell_type": "markdown",
   "metadata": {
    "slideshow": {
     "slide_type": "slide"
    }
   },
   "source": [
    "### Notebook Related Tip (NBK-1)\n",
    "\n",
    "# Q: How to save a notebook"
   ]
  },
  {
   "cell_type": "markdown",
   "metadata": {
    "slideshow": {
     "slide_type": "fragment"
    }
   },
   "source": [
    "Tip: Just type Control-S (Command-S) Frequently.\n",
    "\n",
    "(The good news is that the AutoSave makes frequent checkpoints. Default is 120 Seconds, but verify)"
   ]
  },
  {
   "cell_type": "markdown",
   "metadata": {
    "slideshow": {
     "slide_type": "slide"
    }
   },
   "source": [
    "### Notebook Related Tip (NBK-2)\n",
    "\n",
    "## Q: What is a good way to clone a Notebook?\n",
    "\n",
    "Option 1 : Just use \"Make a Copy\" and rename it right away...<br>\n",
    "Option 2 : In the \"home page\" (Dashboard) click the checkbox. Now you can **Duplicate** it, by clicking the Duplicate button\n"
   ]
  },
  {
   "cell_type": "markdown",
   "metadata": {
    "slideshow": {
     "slide_type": "slide"
    }
   },
   "source": [
    "### Notebook Related Tip (NBK-3)\n",
    "\n",
    "## Q: How to see which Notebooks are 'active'?"
   ]
  },
  {
   "cell_type": "markdown",
   "metadata": {
    "slideshow": {
     "slide_type": "slide"
    }
   },
   "source": [
    "#### Tip: In the 'Notebooks Dashboard' those appear in a different color (Green)\n",
    "\n",
    "<img src=\"images/active1.jpg\" width=800>"
   ]
  },
  {
   "cell_type": "markdown",
   "metadata": {
    "slideshow": {
     "slide_type": "slide"
    }
   },
   "source": [
    "### Tip: The Running 'Tab' shows all the active notebooks\n",
    "<img src=\"images/running2.png\" width=500>"
   ]
  },
  {
   "cell_type": "markdown",
   "metadata": {
    "slideshow": {
     "slide_type": "slide"
    }
   },
   "source": [
    "### Notebook Related Tip (NBK-4)\n",
    "\n",
    "## Q: How to Clear all output from a Notebook?\n",
    "\n",
    "Option 1 : Menu Cell --> All Output --> Clear\n",
    "\n",
    "Note: This only *removed* the display of the output. All the variables are still in memory. To remove them completely..."
   ]
  },
  {
   "cell_type": "markdown",
   "metadata": {
    "slideshow": {
     "slide_type": "slide"
    }
   },
   "source": [
    "### Notebook Related Tip (NBK-5)\n",
    "\n",
    "## Q: How to copy one or more cells from One Notebook to Another?\n",
    "\n"
   ]
  },
  {
   "cell_type": "markdown",
   "metadata": {
    "slideshow": {
     "slide_type": "fragment"
    }
   },
   "source": [
    "Step 1: In the original notebook, select the multiple cells you wish to copy\n",
    "\n",
    "Step 2: CONTROL-C to copy the cells to clipboard <br>\n",
    "Step 3: In the target notebook, use CONTROL-V to Paste all those cells <br>"
   ]
  },
  {
   "cell_type": "markdown",
   "metadata": {
    "slideshow": {
     "slide_type": "slide"
    }
   },
   "source": [
    "### Notebook Related Tip (NBK-6)\n",
    "\n",
    "## Q: How to Clear all variables from a Notebook's memory?\n",
    "\n",
    "Option 1 : Menu Kernel --> Restart and Clear Output.\n",
    "\n",
    "Note: You can say yes, when it verifies that you indeed want to kill the kernel"
   ]
  },
  {
   "cell_type": "markdown",
   "metadata": {
    "slideshow": {
     "slide_type": "slide"
    }
   },
   "source": [
    "<a id=\"aes\"></a>\n",
    "# <div class=\"alert alert-block alert-warning\"> Section: Aesthetics: Look & Feel- Related Tips </div>\n"
   ]
  },
  {
   "cell_type": "markdown",
   "metadata": {
    "slideshow": {
     "slide_type": "slide"
    }
   },
   "source": [
    "# <div class=\"alert alert-block alert-success\"> Embedding Pictures & Videos  </div>"
   ]
  },
  {
   "cell_type": "markdown",
   "metadata": {
    "slideshow": {
     "slide_type": "slide"
    }
   },
   "source": [
    "### Aesthetics Related Tip \n",
    "\n",
    "# Q: How to embed an Image in a Jupyter Cell?"
   ]
  },
  {
   "cell_type": "markdown",
   "metadata": {
    "slideshow": {
     "slide_type": "slide"
    }
   },
   "source": [
    "### Aesthetics Related Tip (AES-1)\n",
    "\n",
    "\n",
    "## Tip: Simplest: Embed the picture using Markdown\n",
    "\n",
    "`![image](link/to/image)`\n"
   ]
  },
  {
   "cell_type": "markdown",
   "metadata": {
    "slideshow": {
     "slide_type": "slide"
    }
   },
   "source": [
    "![Image of dtree](https://raw.githubusercontent.com/Ram-N/images/master/dtree.JPG)\n"
   ]
  },
  {
   "cell_type": "markdown",
   "metadata": {
    "slideshow": {
     "slide_type": "slide"
    }
   },
   "source": [
    "### Aesthetics Related Tip (AES-2)\n",
    "\n",
    "## Tip: Embed the picture using the `<img>` tag\n",
    "Gives better control\n",
    "### `<img src = \"images/flower.jpg\", width=\"500\" align=\"right\">`\n"
   ]
  },
  {
   "cell_type": "markdown",
   "metadata": {
    "slideshow": {
     "slide_type": "slide"
    }
   },
   "source": [
    "<img src = \"images/flower.jpg\", width=\"300\" align=\"right\">\n",
    "Meanwhile, we can add lots of text on the rest of the cell. It does wrap-around.\n",
    "Note: The cell type is Markdown. Also notice that this level of control was not easily possible with the Markdown Image tag."
   ]
  },
  {
   "cell_type": "markdown",
   "metadata": {
    "slideshow": {
     "slide_type": "slide"
    }
   },
   "source": [
    "### <font color='blue'>  Aesthetics Related Tip (AES-3)</font>\n",
    "\n",
    "## Tip: Embed a picture using Python (importing Image and HTML modules)\n"
   ]
  },
  {
   "cell_type": "code",
   "execution_count": null,
   "metadata": {
    "slideshow": {
     "slide_type": "slide"
    }
   },
   "outputs": [],
   "source": [
    "from IPython.display import Image, HTML\n",
    "#from IPython.core.display import HTML \n",
    "PATH = \"images/\"\n",
    "Image(filename = PATH+\"logo.jpg\", width=600, height=400)"
   ]
  },
  {
   "cell_type": "markdown",
   "metadata": {
    "slideshow": {
     "slide_type": "slide"
    }
   },
   "source": [
    "### <font color='blue'>  Aesthetics Related Tip (AES-4)</font>\n",
    "\n",
    "# Q: How to embed a video in a Jupyter Cell?"
   ]
  },
  {
   "cell_type": "code",
   "execution_count": null,
   "metadata": {
    "slideshow": {
     "slide_type": "slide"
    }
   },
   "outputs": [],
   "source": [
    "from IPython.display import YouTubeVideo\n",
    "YouTubeVideo('hAzETelnBz4') # The string is the unique video ID that YouTube uses"
   ]
  },
  {
   "cell_type": "markdown",
   "metadata": {
    "slideshow": {
     "slide_type": "slide"
    }
   },
   "source": [
    "<a id=\"html\"></a>\n",
    "\n",
    "# <div class=\"alert alert-block alert-warning\"> Section: HTML-Related Jupyter Tips </div>\n"
   ]
  },
  {
   "cell_type": "markdown",
   "metadata": {
    "collapsed": true,
    "slideshow": {
     "slide_type": "slide"
    }
   },
   "source": [
    "- [section title](#section_ID)\n",
    "- [Jump to How to make inline anchors](#anchor)\n"
   ]
  },
  {
   "cell_type": "markdown",
   "metadata": {
    "slideshow": {
     "slide_type": "slide"
    }
   },
   "source": [
    "\n",
    "### <font color='blue'>  HTML Related Tip (HTML-1)</font>\n",
    "\n",
    "# How to create Links to External URL?"
   ]
  },
  {
   "cell_type": "markdown",
   "metadata": {
    "collapsed": true,
    "slideshow": {
     "slide_type": "fragment"
    }
   },
   "source": [
    "## `[link text](http://url) : External Link`\n",
    "\n",
    "__[ACM SF BAY](http://http://www.sfbayacm.org/data-science-camp-2017/)__ : External Link\n",
    "\n"
   ]
  },
  {
   "cell_type": "markdown",
   "metadata": {
    "slideshow": {
     "slide_type": "slide"
    }
   },
   "source": [
    "\n",
    "### <font color='blue'>  HTML Related Tip (HTML-2)</font>\n",
    "\n",
    "# How to create a Link to some other place in the same notebook?\n",
    "(This is called an 'inline' link)"
   ]
  },
  {
   "cell_type": "markdown",
   "metadata": {
    "slideshow": {
     "slide_type": "slide"
    }
   },
   "source": [
    "<a id =\"anchor\"></a>\n",
    "\n",
    "## Inline anchors. \n",
    "\n",
    "These can be quite useful in Navigating a large notebook. In a **Markdown cell**, which is the target cell, simply place an anchor tag, with a unique ID.\n",
    "\n",
    "`<a id = \"id_name\"></a>` This is the *target* cell.\n",
    "\n",
    "In any other Markdown cell, to provide a link to the target, add: \n",
    "\n",
    "`[Description of Target](#id_name)` Now when you click on the link, it will jump straight to the Target cell.\n"
   ]
  },
  {
   "cell_type": "markdown",
   "metadata": {
    "slideshow": {
     "slide_type": "slide"
    }
   },
   "source": [
    "\n",
    "### <font color='blue'>  HTML Related Tip (HTML-3)</font>\n",
    "\n",
    "# How to create Text with different font colors?\n"
   ]
  },
  {
   "cell_type": "markdown",
   "metadata": {
    "slideshow": {
     "slide_type": "fragment"
    }
   },
   "source": [
    "## `<font color='blue'>  Blue colored Text </font>`\n",
    "## <font color='blue'>  Blue colored Text </font>\n",
    "\n",
    "Note: This sometimes doesn't work for some. (HTML5 compatibility.) In that case try: \n",
    "\n",
    "`<span style=\"color:blue\">Blue Colored Text </span>` <br>\n",
    "<span style=\"color:blue\">Blue Colored Text </span> "
   ]
  },
  {
   "cell_type": "markdown",
   "metadata": {
    "slideshow": {
     "slide_type": "slide"
    }
   },
   "source": [
    "\n",
    "### <font color='blue'>  HTML Related Tip (HTML-4)</font>\n",
    "\n",
    "# How to create Cells with Different Colored Backgrounds and Fonts?\n"
   ]
  },
  {
   "cell_type": "markdown",
   "metadata": {
    "slideshow": {
     "slide_type": "slide"
    }
   },
   "source": [
    "# `<div class=\"alert alert-block alert-info\">your string </div>`\n",
    "\n",
    "<div class=\"alert alert-block alert-info\">Tip: Use blue boxes for Tips and notes.</div>\n",
    "\n",
    "Note: This works because Jupyter uses a pre-defined css Stylesheet, with classes like \"alert\", \"alert-block\" etc. with defined properties"
   ]
  },
  {
   "cell_type": "markdown",
   "metadata": {
    "slideshow": {
     "slide_type": "slide"
    }
   },
   "source": [
    "Double click on this cell, to see the HTML code\n",
    "<div class=\"alert alert-block alert-warning\">Example: Use yellow boxes for examples that are not inside code cells, or use for mathematical formulas if needed.</div>\n",
    "<div class=\"alert alert-block alert-success\">Up to you: Use green boxes sparingly, and only for some specific purpose that the other boxes can't cover. For example, if you have a lot of related content to link to, maybe you decide to use green boxes for related links from each section of a notebook. </div>\n",
    "\n",
    "<div class=\"alert alert-block alert-danger\">**Use the red boxes very sparingly**</div>"
   ]
  },
  {
   "cell_type": "markdown",
   "metadata": {
    "slideshow": {
     "slide_type": "slide"
    }
   },
   "source": [
    "### <font color='blue'>  HTML Related Tip (HTML-5)</font>\n",
    "\n",
    "# How to make Python Display Different Fonts in your Notebooks?"
   ]
  },
  {
   "cell_type": "code",
   "execution_count": null,
   "metadata": {
    "slideshow": {
     "slide_type": "slide"
    }
   },
   "outputs": [],
   "source": [
    "import numpy as np\n",
    "from IPython.display import Markdown, display\n",
    "def printmd(string):\n",
    "    display(Markdown(string))\n",
    "\n",
    "lst = [\"ACM\", \"DataScience\", \"Camp\"]\n",
    "    \n",
    "printmd('# *' + np.random.choice(lst) + '*')"
   ]
  },
  {
   "cell_type": "markdown",
   "metadata": {
    "slideshow": {
     "slide_type": "slide"
    }
   },
   "source": [
    "<a id=\"shell\"></a>\n",
    "# <div class=\"alert alert-block alert-warning\"> Section: Cell Magic & Shell Related Jupyter Tips </div>\n"
   ]
  },
  {
   "cell_type": "markdown",
   "metadata": {
    "slideshow": {
     "slide_type": "slide"
    }
   },
   "source": [
    "### <font color='blue'>  CELL MAGIC & SHELL Tip (SHELL-1)</font>\n",
    "\n",
    "# Q: How to Run a shell command?\n",
    "\n",
    "Tip: Use !  and a cell command\n",
    "\n",
    "Switch to the companion Notebook to demonstrate"
   ]
  },
  {
   "cell_type": "markdown",
   "metadata": {
    "slideshow": {
     "slide_type": "slide"
    }
   },
   "source": [
    "### <font color='blue'>  CELL MAGIC & SHELL Tip (SHELL-2)</font>\n",
    "\n",
    "# Q: How to get a list of all Cell Magics\n",
    "\n",
    "Tip: %lsmagic"
   ]
  },
  {
   "cell_type": "markdown",
   "metadata": {
    "slideshow": {
     "slide_type": "slide"
    }
   },
   "source": [
    "### <font color='blue'>  CELL MAGIC & SHELL Tip (SHELL-3)</font>\n",
    "\n",
    "# Q: What is the difference between Line and Cell Magic?\n",
    "\n",
    "Switch to the Companion notebook to demonstrate..."
   ]
  },
  {
   "cell_type": "markdown",
   "metadata": {
    "slideshow": {
     "slide_type": "slide"
    }
   },
   "source": [
    "<a id=\"python\"></a>\n",
    "# <div class=\"alert alert-block alert-warning\"> Section: Python-Related Jupyter Tips </div>\n"
   ]
  },
  {
   "cell_type": "markdown",
   "metadata": {
    "slideshow": {
     "slide_type": "slide"
    }
   },
   "source": [
    "### <font color='blue'>  Python Tip (PYTHON-1)</font>\n",
    "\n",
    "# Q: How to check which version of Python you are using...\n",
    "\n",
    "Tip: Use `sys` and `version`"
   ]
  },
  {
   "cell_type": "code",
   "execution_count": null,
   "metadata": {
    "slideshow": {
     "slide_type": "slide"
    }
   },
   "outputs": [],
   "source": [
    "import sys\n",
    "print(sys.version)"
   ]
  },
  {
   "cell_type": "markdown",
   "metadata": {
    "slideshow": {
     "slide_type": "slide"
    }
   },
   "source": [
    "### <font color='blue'>  Python Tip (PYTHON-2)</font>\n",
    "\n",
    "# In Which Directory (Folder) is your iPython Notebook being stored?\n",
    "\n",
    "Tip: Two commands for you to try...\n",
    "\n",
    "!cd and %ls"
   ]
  },
  {
   "cell_type": "code",
   "execution_count": null,
   "metadata": {
    "slideshow": {
     "slide_type": "slide"
    }
   },
   "outputs": [],
   "source": [
    "!cd"
   ]
  },
  {
   "cell_type": "code",
   "execution_count": null,
   "metadata": {
    "collapsed": true,
    "slideshow": {
     "slide_type": "slide"
    }
   },
   "outputs": [],
   "source": [
    "%ls"
   ]
  },
  {
   "cell_type": "markdown",
   "metadata": {
    "slideshow": {
     "slide_type": "slide"
    }
   },
   "source": [
    "### <font color='blue'>  Python Tip (PYTHON-3)</font>\n",
    "\n",
    "# Q: How to find the current working directory?\n",
    "Tip: Use `os` and `os.getcwd()`"
   ]
  },
  {
   "cell_type": "code",
   "execution_count": null,
   "metadata": {
    "slideshow": {
     "slide_type": "slide"
    }
   },
   "outputs": [],
   "source": [
    "import os\n",
    "os.getcwd()"
   ]
  },
  {
   "cell_type": "markdown",
   "metadata": {
    "slideshow": {
     "slide_type": "slide"
    }
   },
   "source": [
    "### <font color='blue'>  Python Tip (PYTHON-4)</font>\n",
    "\n",
    "# Q: How to find all the *.ipynb files in a directory?\n",
    "\n",
    "Tip: Use `os` and `os.listdir()`"
   ]
  },
  {
   "cell_type": "code",
   "execution_count": null,
   "metadata": {
    "slideshow": {
     "slide_type": "slide"
    }
   },
   "outputs": [],
   "source": [
    "import os\n",
    "for f in os.listdir():\n",
    "    if f.endswith('ipynb'):\n",
    "        print(f)\n"
   ]
  },
  {
   "cell_type": "markdown",
   "metadata": {
    "slideshow": {
     "slide_type": "slide"
    }
   },
   "source": [
    "### <font color='blue'>  Python Tip (PYTHON-5)</font>\n",
    "\n",
    "\n",
    "## How do you see all the functions in any module?"
   ]
  },
  {
   "cell_type": "code",
   "execution_count": null,
   "metadata": {
    "collapsed": true,
    "slideshow": {
     "slide_type": "slide"
    }
   },
   "outputs": [],
   "source": [
    "import os\n",
    "dir(os)"
   ]
  },
  {
   "cell_type": "code",
   "execution_count": null,
   "metadata": {
    "collapsed": true,
    "slideshow": {
     "slide_type": "slide"
    }
   },
   "outputs": [],
   "source": [
    "import math\n",
    "dir(math)"
   ]
  },
  {
   "cell_type": "markdown",
   "metadata": {
    "slideshow": {
     "slide_type": "slide"
    }
   },
   "source": [
    "### <font color='blue'>  Python Tip (PYTHON-6)</font>\n",
    "\n",
    "# How to see all the functions and classes that come pre-loaded with Python?\n",
    "\n"
   ]
  },
  {
   "cell_type": "code",
   "execution_count": null,
   "metadata": {
    "collapsed": true,
    "slideshow": {
     "slide_type": "slide"
    }
   },
   "outputs": [],
   "source": [
    "dir(__builtin__) #hit tab and demonstrate"
   ]
  },
  {
   "cell_type": "markdown",
   "metadata": {
    "slideshow": {
     "slide_type": "slide"
    }
   },
   "source": [
    "### <font color='blue'>  Python Tip (PYTHON-7)</font>\n",
    "\n",
    "# How to see all the Variables in a notebook's memory?\n"
   ]
  },
  {
   "cell_type": "code",
   "execution_count": null,
   "metadata": {
    "slideshow": {
     "slide_type": "slide"
    }
   },
   "outputs": [],
   "source": [
    "#Tip: Use the `% whos`\n",
    "%whos int"
   ]
  },
  {
   "cell_type": "markdown",
   "metadata": {
    "slideshow": {
     "slide_type": "slide"
    }
   },
   "source": [
    "![Questions](images/questions.png)"
   ]
  },
  {
   "cell_type": "markdown",
   "metadata": {
    "slideshow": {
     "slide_type": "slide"
    }
   },
   "source": [
    "# References & Acknowledgements\n",
    "\n",
    "- https://www.packtpub.com/books/content/basics-jupyter-notebook-and-\n",
    "- Jupyter Notebook interface explained at http://jupyter-notebook.readthedocs.org/en/latest/notebook.html\n",
    "\n",
    "People: Damian Avila, Doug Blank, Hiro Shioi, Young Song \n"
   ]
  },
  {
   "cell_type": "markdown",
   "metadata": {
    "collapsed": true,
    "slideshow": {
     "slide_type": "slide"
    }
   },
   "source": [
    "# Appendix\n",
    "\n",
    "Here are a few things about Jupyter that are useful, but not tips per se.\n",
    "I am including them here in the Appendix, in case they are useful for some."
   ]
  },
  {
   "cell_type": "markdown",
   "metadata": {
    "slideshow": {
     "slide_type": "slide"
    }
   },
   "source": [
    "# Basics: before we get to the tips\n",
    "\n",
    "If you are using Jupyter, skip this section and go directly to the Tips"
   ]
  },
  {
   "cell_type": "markdown",
   "metadata": {
    "slideshow": {
     "slide_type": "slide"
    }
   },
   "source": [
    "# The dashboard contains 3 tabs:\n",
    "\n",
    "### Files: shows all files and notebooks in the current directory\n",
    "### Running: shows all kernels currently running on your computer\n",
    "### Clusters: lets you launch kernels for parallel computing"
   ]
  },
  {
   "cell_type": "markdown",
   "metadata": {
    "slideshow": {
     "slide_type": "slide"
    }
   },
   "source": [
    "\n",
    "<img src = \"images/jupyter/j2.png\", align=\"left\">"
   ]
  },
  {
   "cell_type": "markdown",
   "metadata": {
    "slideshow": {
     "slide_type": "slide"
    }
   },
   "source": [
    "Here are the main components of the interface, from top to bottom:\n",
    "\n",
    "- The **notebook name**, which you can change by clicking on it. This is also the name of the .ipynb file.\n",
    "- The **Menu bar** gives you access to several actions pertaining to either the notebook or the kernel.\n",
    "- To the right of the menu bar is the **Kernel name**. You can change the kernel language of your notebook from the Kernel menu.\n",
    "- The **Toolbar** contains icons for common actions. The dropdown menu showing Code lets you change the type of a cell."
   ]
  },
  {
   "cell_type": "markdown",
   "metadata": {
    "slideshow": {
     "slide_type": "slide"
    }
   },
   "source": [
    "\n",
    "<img src = \"images/jupyter/j3.png\", align=\"left\">"
   ]
  },
  {
   "cell_type": "markdown",
   "metadata": {
    "slideshow": {
     "slide_type": "slide"
    }
   },
   "source": [
    "# To start a New Notebook, click the \"NEW\" dropdown... (top right)"
   ]
  },
  {
   "cell_type": "markdown",
   "metadata": {
    "slideshow": {
     "slide_type": "slide"
    }
   },
   "source": [
    "\n",
    "<img src = \"images/jupyter/j4.png\", align=\"left\">"
   ]
  },
  {
   "cell_type": "markdown",
   "metadata": {
    "slideshow": {
     "slide_type": "slide"
    }
   },
   "source": [
    "# Cells \n",
    "\n",
    "These are the basic blocks of a Jupyter Notebook.\n",
    "Inside each cell, you can enter text (Python Code) and when you execute the code (Run it), you will see the cell output.\n",
    "\n",
    "All Python cells (code cells) have a sequence number."
   ]
  },
  {
   "cell_type": "markdown",
   "metadata": {
    "slideshow": {
     "slide_type": "slide"
    }
   },
   "source": [
    "\n",
    "<img src = \"images/jupyter/j5.png\", width=700, align=\"left\">"
   ]
  },
  {
   "cell_type": "markdown",
   "metadata": {
    "slideshow": {
     "slide_type": "slide"
    }
   },
   "source": [
    "# The Built in \"User Interface Tour\" is quite good. "
   ]
  },
  {
   "cell_type": "markdown",
   "metadata": {
    "slideshow": {
     "slide_type": "slide"
    }
   },
   "source": [
    "A **kernel** is a process running an interactive session. When using Jupyter, this kernel is a Python process. There are kernels in many languages other than Python.\n",
    "\n",
    "In Jupyter, notebooks and kernels are strongly separated. A notebook is a file, whereas a kernel is a process. The kernel receives snippets of code from the Notebook interface, executes them, and sends the outputs and possible errors back to the Notebook interface. "
   ]
  }
 ],
 "metadata": {
  "celltoolbar": "Slideshow",
  "kernelspec": {
   "display_name": "Python 3",
   "language": "python",
   "name": "python3"
  },
  "language_info": {
   "codemirror_mode": {
    "name": "ipython",
    "version": 3
   },
   "file_extension": ".py",
   "mimetype": "text/x-python",
   "name": "python",
   "nbconvert_exporter": "python",
   "pygments_lexer": "ipython3",
   "version": "3.6.0"
  }
 },
 "nbformat": 4,
 "nbformat_minor": 2
}
