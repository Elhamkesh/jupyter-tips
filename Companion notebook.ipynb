{
 "cells": [
  {
   "cell_type": "markdown",
   "metadata": {},
   "source": [
    "# Companion Notebook to the Jupyter Tips and Tricks\n",
    "Ram Narasimhan"
   ]
  },
  {
   "cell_type": "markdown",
   "metadata": {},
   "source": [
    "This notebook is just to try out things. This is useful to demonstrate  Tips that involve the whole notebook."
   ]
  },
  {
   "cell_type": "code",
   "execution_count": 15,
   "metadata": {},
   "outputs": [
    {
     "ename": "NameError",
     "evalue": "name 'whos' is not defined",
     "output_type": "error",
     "traceback": [
      "\u001b[0;31m---------------------------------------------------------------------------\u001b[0m",
      "\u001b[0;31mNameError\u001b[0m                                 Traceback (most recent call last)",
      "\u001b[0;32m<ipython-input-15-7edcb2dafb88>\u001b[0m in \u001b[0;36m<module>\u001b[0;34m()\u001b[0m\n\u001b[0;32m----> 1\u001b[0;31m \u001b[0mwhos\u001b[0m\u001b[1;33m\u001b[0m\u001b[0m\n\u001b[0m\u001b[1;32m      2\u001b[0m \u001b[1;33m\u001b[0m\u001b[0m\n",
      "\u001b[0;31mNameError\u001b[0m: name 'whos' is not defined"
     ]
    }
   ],
   "source": [
    "whos\n",
    "\n"
   ]
  },
  {
   "cell_type": "code",
   "execution_count": 16,
   "metadata": {
    "collapsed": true
   },
   "outputs": [],
   "source": [
    "x =3"
   ]
  },
  {
   "cell_type": "code",
   "execution_count": 19,
   "metadata": {},
   "outputs": [
    {
     "data": {
      "text/plain": [
       "dict_items([('__name__', '__main__'), ('__doc__', 'Automatically created module for IPython interactive environment'), ('__package__', None), ('__loader__', None), ('__spec__', None), ('__builtin__', <module 'builtins' (built-in)>), ('__builtins__', <module 'builtins' (built-in)>), ('_ih', ['', 'print(3)', 'print(3);', 'x = 3\\nx', 'x = 3\\nx;', 'x = 3\\nx\\nprint(x)', 'x = 3\\nprint(x)\\nx', '#Just use a semi-colon. Useful if you are running a whole lot of cells at one time and are not interested in each output\\nx = 3\\nprint(x)\\nx\\n#x;', '#Just use a semi-colon. Useful if you are running a whole lot of cells at one time and are not interested in each output\\nx = 3\\nprint(x)\\nx\\n#x', '#Just use a semi-colon. Useful if you are running a whole lot of cells at one time and are not interested in each output\\nx = 3\\nprint(x)\\n\\nx;', '#Just use a semi-colon. Useful if you are running a whole lot of cells at one time and are not interested in each output\\nx = 3\\n#print(x)\\nx;', 'vars', 'vars()', 'whos', 'who', 'whos', 'x =3', 'vars', 'vars()', 'vars().items()']), ('_oh', {3: 3, 6: 3, 7: 3, 8: 3, 11: <built-in function vars>, 12: {'__name__': '__main__', '__doc__': 'Automatically created module for IPython interactive environment', '__package__': None, '__loader__': None, '__spec__': None, '__builtin__': <module 'builtins' (built-in)>, '__builtins__': <module 'builtins' (built-in)>, '_ih': ['', 'print(3)', 'print(3);', 'x = 3\\nx', 'x = 3\\nx;', 'x = 3\\nx\\nprint(x)', 'x = 3\\nprint(x)\\nx', '#Just use a semi-colon. Useful if you are running a whole lot of cells at one time and are not interested in each output\\nx = 3\\nprint(x)\\nx\\n#x;', '#Just use a semi-colon. Useful if you are running a whole lot of cells at one time and are not interested in each output\\nx = 3\\nprint(x)\\nx\\n#x', '#Just use a semi-colon. Useful if you are running a whole lot of cells at one time and are not interested in each output\\nx = 3\\nprint(x)\\n\\nx;', '#Just use a semi-colon. Useful if you are running a whole lot of cells at one time and are not interested in each output\\nx = 3\\n#print(x)\\nx;', 'vars', 'vars()', 'whos', 'who', 'whos', 'x =3', 'vars', 'vars()', 'vars().items()'], '_oh': {...}, '_dh': ['c:\\\\Users\\\\Ram\\\\Py Library\\\\jupyter-tips'], '_sh': <module 'IPython.core.shadowns' from 'c:\\\\Users\\\\Ram\\\\Anaconda3\\\\lib\\\\site-packages\\\\IPython\\\\core\\\\shadowns.py'>, 'In': ['', 'print(3)', 'print(3);', 'x = 3\\nx', 'x = 3\\nx;', 'x = 3\\nx\\nprint(x)', 'x = 3\\nprint(x)\\nx', '#Just use a semi-colon. Useful if you are running a whole lot of cells at one time and are not interested in each output\\nx = 3\\nprint(x)\\nx\\n#x;', '#Just use a semi-colon. Useful if you are running a whole lot of cells at one time and are not interested in each output\\nx = 3\\nprint(x)\\nx\\n#x', '#Just use a semi-colon. Useful if you are running a whole lot of cells at one time and are not interested in each output\\nx = 3\\nprint(x)\\n\\nx;', '#Just use a semi-colon. Useful if you are running a whole lot of cells at one time and are not interested in each output\\nx = 3\\n#print(x)\\nx;', 'vars', 'vars()', 'whos', 'who', 'whos', 'x =3', 'vars', 'vars()', 'vars().items()'], 'Out': {...}, 'get_ipython': <bound method InteractiveShell.get_ipython of <ipykernel.zmqshell.ZMQInteractiveShell object at 0x0000000004C035C0>>, 'exit': <IPython.core.autocall.ZMQExitAutocall object at 0x0000000004C54320>, 'quit': <IPython.core.autocall.ZMQExitAutocall object at 0x0000000004C54320>, '_': {...}, '__': <built-in function vars>, '___': {...}, '_i': 'vars()', '_ii': 'vars', '_iii': 'x =3', '_i1': 'print(3)', '_i2': 'print(3);', '_i3': 'x = 3\\nx', 'x': 3, '_3': 3, '_i4': 'x = 3\\nx;', '_i5': 'x = 3\\nx\\nprint(x)', '_i6': 'x = 3\\nprint(x)\\nx', '_6': 3, '_i7': '#Just use a semi-colon. Useful if you are running a whole lot of cells at one time and are not interested in each output\\nx = 3\\nprint(x)\\nx\\n#x;', '_7': 3, '_i8': '#Just use a semi-colon. Useful if you are running a whole lot of cells at one time and are not interested in each output\\nx = 3\\nprint(x)\\nx\\n#x', '_8': 3, '_i9': '#Just use a semi-colon. Useful if you are running a whole lot of cells at one time and are not interested in each output\\nx = 3\\nprint(x)\\n\\nx;', '_i10': '#Just use a semi-colon. Useful if you are running a whole lot of cells at one time and are not interested in each output\\nx = 3\\n#print(x)\\nx;', '_i11': 'vars', '_11': <built-in function vars>, '_i12': 'vars()', '_12': {...}, '_i13': 'whos', '_i14': 'who', '_i15': 'whos', '_i16': 'x =3', '_i17': 'vars', '_17': <built-in function vars>, '_i18': 'vars()', '_18': {...}, '_i19': 'vars().items()'}, 17: <built-in function vars>, 18: {'__name__': '__main__', '__doc__': 'Automatically created module for IPython interactive environment', '__package__': None, '__loader__': None, '__spec__': None, '__builtin__': <module 'builtins' (built-in)>, '__builtins__': <module 'builtins' (built-in)>, '_ih': ['', 'print(3)', 'print(3);', 'x = 3\\nx', 'x = 3\\nx;', 'x = 3\\nx\\nprint(x)', 'x = 3\\nprint(x)\\nx', '#Just use a semi-colon. Useful if you are running a whole lot of cells at one time and are not interested in each output\\nx = 3\\nprint(x)\\nx\\n#x;', '#Just use a semi-colon. Useful if you are running a whole lot of cells at one time and are not interested in each output\\nx = 3\\nprint(x)\\nx\\n#x', '#Just use a semi-colon. Useful if you are running a whole lot of cells at one time and are not interested in each output\\nx = 3\\nprint(x)\\n\\nx;', '#Just use a semi-colon. Useful if you are running a whole lot of cells at one time and are not interested in each output\\nx = 3\\n#print(x)\\nx;', 'vars', 'vars()', 'whos', 'who', 'whos', 'x =3', 'vars', 'vars()', 'vars().items()'], '_oh': {...}, '_dh': ['c:\\\\Users\\\\Ram\\\\Py Library\\\\jupyter-tips'], '_sh': <module 'IPython.core.shadowns' from 'c:\\\\Users\\\\Ram\\\\Anaconda3\\\\lib\\\\site-packages\\\\IPython\\\\core\\\\shadowns.py'>, 'In': ['', 'print(3)', 'print(3);', 'x = 3\\nx', 'x = 3\\nx;', 'x = 3\\nx\\nprint(x)', 'x = 3\\nprint(x)\\nx', '#Just use a semi-colon. Useful if you are running a whole lot of cells at one time and are not interested in each output\\nx = 3\\nprint(x)\\nx\\n#x;', '#Just use a semi-colon. Useful if you are running a whole lot of cells at one time and are not interested in each output\\nx = 3\\nprint(x)\\nx\\n#x', '#Just use a semi-colon. Useful if you are running a whole lot of cells at one time and are not interested in each output\\nx = 3\\nprint(x)\\n\\nx;', '#Just use a semi-colon. Useful if you are running a whole lot of cells at one time and are not interested in each output\\nx = 3\\n#print(x)\\nx;', 'vars', 'vars()', 'whos', 'who', 'whos', 'x =3', 'vars', 'vars()', 'vars().items()'], 'Out': {...}, 'get_ipython': <bound method InteractiveShell.get_ipython of <ipykernel.zmqshell.ZMQInteractiveShell object at 0x0000000004C035C0>>, 'exit': <IPython.core.autocall.ZMQExitAutocall object at 0x0000000004C54320>, 'quit': <IPython.core.autocall.ZMQExitAutocall object at 0x0000000004C54320>, '_': {...}, '__': <built-in function vars>, '___': {...}, '_i': 'vars()', '_ii': 'vars', '_iii': 'x =3', '_i1': 'print(3)', '_i2': 'print(3);', '_i3': 'x = 3\\nx', 'x': 3, '_3': 3, '_i4': 'x = 3\\nx;', '_i5': 'x = 3\\nx\\nprint(x)', '_i6': 'x = 3\\nprint(x)\\nx', '_6': 3, '_i7': '#Just use a semi-colon. Useful if you are running a whole lot of cells at one time and are not interested in each output\\nx = 3\\nprint(x)\\nx\\n#x;', '_7': 3, '_i8': '#Just use a semi-colon. Useful if you are running a whole lot of cells at one time and are not interested in each output\\nx = 3\\nprint(x)\\nx\\n#x', '_8': 3, '_i9': '#Just use a semi-colon. Useful if you are running a whole lot of cells at one time and are not interested in each output\\nx = 3\\nprint(x)\\n\\nx;', '_i10': '#Just use a semi-colon. Useful if you are running a whole lot of cells at one time and are not interested in each output\\nx = 3\\n#print(x)\\nx;', '_i11': 'vars', '_11': <built-in function vars>, '_i12': 'vars()', '_12': {...}, '_i13': 'whos', '_i14': 'who', '_i15': 'whos', '_i16': 'x =3', '_i17': 'vars', '_17': <built-in function vars>, '_i18': 'vars()', '_18': {...}, '_i19': 'vars().items()'}}), ('_dh', ['c:\\\\Users\\\\Ram\\\\Py Library\\\\jupyter-tips']), ('_sh', <module 'IPython.core.shadowns' from 'c:\\\\Users\\\\Ram\\\\Anaconda3\\\\lib\\\\site-packages\\\\IPython\\\\core\\\\shadowns.py'>), ('In', ['', 'print(3)', 'print(3);', 'x = 3\\nx', 'x = 3\\nx;', 'x = 3\\nx\\nprint(x)', 'x = 3\\nprint(x)\\nx', '#Just use a semi-colon. Useful if you are running a whole lot of cells at one time and are not interested in each output\\nx = 3\\nprint(x)\\nx\\n#x;', '#Just use a semi-colon. Useful if you are running a whole lot of cells at one time and are not interested in each output\\nx = 3\\nprint(x)\\nx\\n#x', '#Just use a semi-colon. Useful if you are running a whole lot of cells at one time and are not interested in each output\\nx = 3\\nprint(x)\\n\\nx;', '#Just use a semi-colon. Useful if you are running a whole lot of cells at one time and are not interested in each output\\nx = 3\\n#print(x)\\nx;', 'vars', 'vars()', 'whos', 'who', 'whos', 'x =3', 'vars', 'vars()', 'vars().items()']), ('Out', {3: 3, 6: 3, 7: 3, 8: 3, 11: <built-in function vars>, 12: {'__name__': '__main__', '__doc__': 'Automatically created module for IPython interactive environment', '__package__': None, '__loader__': None, '__spec__': None, '__builtin__': <module 'builtins' (built-in)>, '__builtins__': <module 'builtins' (built-in)>, '_ih': ['', 'print(3)', 'print(3);', 'x = 3\\nx', 'x = 3\\nx;', 'x = 3\\nx\\nprint(x)', 'x = 3\\nprint(x)\\nx', '#Just use a semi-colon. Useful if you are running a whole lot of cells at one time and are not interested in each output\\nx = 3\\nprint(x)\\nx\\n#x;', '#Just use a semi-colon. Useful if you are running a whole lot of cells at one time and are not interested in each output\\nx = 3\\nprint(x)\\nx\\n#x', '#Just use a semi-colon. Useful if you are running a whole lot of cells at one time and are not interested in each output\\nx = 3\\nprint(x)\\n\\nx;', '#Just use a semi-colon. Useful if you are running a whole lot of cells at one time and are not interested in each output\\nx = 3\\n#print(x)\\nx;', 'vars', 'vars()', 'whos', 'who', 'whos', 'x =3', 'vars', 'vars()', 'vars().items()'], '_oh': {...}, '_dh': ['c:\\\\Users\\\\Ram\\\\Py Library\\\\jupyter-tips'], '_sh': <module 'IPython.core.shadowns' from 'c:\\\\Users\\\\Ram\\\\Anaconda3\\\\lib\\\\site-packages\\\\IPython\\\\core\\\\shadowns.py'>, 'In': ['', 'print(3)', 'print(3);', 'x = 3\\nx', 'x = 3\\nx;', 'x = 3\\nx\\nprint(x)', 'x = 3\\nprint(x)\\nx', '#Just use a semi-colon. Useful if you are running a whole lot of cells at one time and are not interested in each output\\nx = 3\\nprint(x)\\nx\\n#x;', '#Just use a semi-colon. Useful if you are running a whole lot of cells at one time and are not interested in each output\\nx = 3\\nprint(x)\\nx\\n#x', '#Just use a semi-colon. Useful if you are running a whole lot of cells at one time and are not interested in each output\\nx = 3\\nprint(x)\\n\\nx;', '#Just use a semi-colon. Useful if you are running a whole lot of cells at one time and are not interested in each output\\nx = 3\\n#print(x)\\nx;', 'vars', 'vars()', 'whos', 'who', 'whos', 'x =3', 'vars', 'vars()', 'vars().items()'], 'Out': {...}, 'get_ipython': <bound method InteractiveShell.get_ipython of <ipykernel.zmqshell.ZMQInteractiveShell object at 0x0000000004C035C0>>, 'exit': <IPython.core.autocall.ZMQExitAutocall object at 0x0000000004C54320>, 'quit': <IPython.core.autocall.ZMQExitAutocall object at 0x0000000004C54320>, '_': {...}, '__': <built-in function vars>, '___': {...}, '_i': 'vars()', '_ii': 'vars', '_iii': 'x =3', '_i1': 'print(3)', '_i2': 'print(3);', '_i3': 'x = 3\\nx', 'x': 3, '_3': 3, '_i4': 'x = 3\\nx;', '_i5': 'x = 3\\nx\\nprint(x)', '_i6': 'x = 3\\nprint(x)\\nx', '_6': 3, '_i7': '#Just use a semi-colon. Useful if you are running a whole lot of cells at one time and are not interested in each output\\nx = 3\\nprint(x)\\nx\\n#x;', '_7': 3, '_i8': '#Just use a semi-colon. Useful if you are running a whole lot of cells at one time and are not interested in each output\\nx = 3\\nprint(x)\\nx\\n#x', '_8': 3, '_i9': '#Just use a semi-colon. Useful if you are running a whole lot of cells at one time and are not interested in each output\\nx = 3\\nprint(x)\\n\\nx;', '_i10': '#Just use a semi-colon. Useful if you are running a whole lot of cells at one time and are not interested in each output\\nx = 3\\n#print(x)\\nx;', '_i11': 'vars', '_11': <built-in function vars>, '_i12': 'vars()', '_12': {...}, '_i13': 'whos', '_i14': 'who', '_i15': 'whos', '_i16': 'x =3', '_i17': 'vars', '_17': <built-in function vars>, '_i18': 'vars()', '_18': {...}, '_i19': 'vars().items()'}, 17: <built-in function vars>, 18: {'__name__': '__main__', '__doc__': 'Automatically created module for IPython interactive environment', '__package__': None, '__loader__': None, '__spec__': None, '__builtin__': <module 'builtins' (built-in)>, '__builtins__': <module 'builtins' (built-in)>, '_ih': ['', 'print(3)', 'print(3);', 'x = 3\\nx', 'x = 3\\nx;', 'x = 3\\nx\\nprint(x)', 'x = 3\\nprint(x)\\nx', '#Just use a semi-colon. Useful if you are running a whole lot of cells at one time and are not interested in each output\\nx = 3\\nprint(x)\\nx\\n#x;', '#Just use a semi-colon. Useful if you are running a whole lot of cells at one time and are not interested in each output\\nx = 3\\nprint(x)\\nx\\n#x', '#Just use a semi-colon. Useful if you are running a whole lot of cells at one time and are not interested in each output\\nx = 3\\nprint(x)\\n\\nx;', '#Just use a semi-colon. Useful if you are running a whole lot of cells at one time and are not interested in each output\\nx = 3\\n#print(x)\\nx;', 'vars', 'vars()', 'whos', 'who', 'whos', 'x =3', 'vars', 'vars()', 'vars().items()'], '_oh': {...}, '_dh': ['c:\\\\Users\\\\Ram\\\\Py Library\\\\jupyter-tips'], '_sh': <module 'IPython.core.shadowns' from 'c:\\\\Users\\\\Ram\\\\Anaconda3\\\\lib\\\\site-packages\\\\IPython\\\\core\\\\shadowns.py'>, 'In': ['', 'print(3)', 'print(3);', 'x = 3\\nx', 'x = 3\\nx;', 'x = 3\\nx\\nprint(x)', 'x = 3\\nprint(x)\\nx', '#Just use a semi-colon. Useful if you are running a whole lot of cells at one time and are not interested in each output\\nx = 3\\nprint(x)\\nx\\n#x;', '#Just use a semi-colon. Useful if you are running a whole lot of cells at one time and are not interested in each output\\nx = 3\\nprint(x)\\nx\\n#x', '#Just use a semi-colon. Useful if you are running a whole lot of cells at one time and are not interested in each output\\nx = 3\\nprint(x)\\n\\nx;', '#Just use a semi-colon. Useful if you are running a whole lot of cells at one time and are not interested in each output\\nx = 3\\n#print(x)\\nx;', 'vars', 'vars()', 'whos', 'who', 'whos', 'x =3', 'vars', 'vars()', 'vars().items()'], 'Out': {...}, 'get_ipython': <bound method InteractiveShell.get_ipython of <ipykernel.zmqshell.ZMQInteractiveShell object at 0x0000000004C035C0>>, 'exit': <IPython.core.autocall.ZMQExitAutocall object at 0x0000000004C54320>, 'quit': <IPython.core.autocall.ZMQExitAutocall object at 0x0000000004C54320>, '_': {...}, '__': <built-in function vars>, '___': {...}, '_i': 'vars()', '_ii': 'vars', '_iii': 'x =3', '_i1': 'print(3)', '_i2': 'print(3);', '_i3': 'x = 3\\nx', 'x': 3, '_3': 3, '_i4': 'x = 3\\nx;', '_i5': 'x = 3\\nx\\nprint(x)', '_i6': 'x = 3\\nprint(x)\\nx', '_6': 3, '_i7': '#Just use a semi-colon. Useful if you are running a whole lot of cells at one time and are not interested in each output\\nx = 3\\nprint(x)\\nx\\n#x;', '_7': 3, '_i8': '#Just use a semi-colon. Useful if you are running a whole lot of cells at one time and are not interested in each output\\nx = 3\\nprint(x)\\nx\\n#x', '_8': 3, '_i9': '#Just use a semi-colon. Useful if you are running a whole lot of cells at one time and are not interested in each output\\nx = 3\\nprint(x)\\n\\nx;', '_i10': '#Just use a semi-colon. Useful if you are running a whole lot of cells at one time and are not interested in each output\\nx = 3\\n#print(x)\\nx;', '_i11': 'vars', '_11': <built-in function vars>, '_i12': 'vars()', '_12': {...}, '_i13': 'whos', '_i14': 'who', '_i15': 'whos', '_i16': 'x =3', '_i17': 'vars', '_17': <built-in function vars>, '_i18': 'vars()', '_18': {...}, '_i19': 'vars().items()'}}), ('get_ipython', <bound method InteractiveShell.get_ipython of <ipykernel.zmqshell.ZMQInteractiveShell object at 0x0000000004C035C0>>), ('exit', <IPython.core.autocall.ZMQExitAutocall object at 0x0000000004C54320>), ('quit', <IPython.core.autocall.ZMQExitAutocall object at 0x0000000004C54320>), ('_', {'__name__': '__main__', '__doc__': 'Automatically created module for IPython interactive environment', '__package__': None, '__loader__': None, '__spec__': None, '__builtin__': <module 'builtins' (built-in)>, '__builtins__': <module 'builtins' (built-in)>, '_ih': ['', 'print(3)', 'print(3);', 'x = 3\\nx', 'x = 3\\nx;', 'x = 3\\nx\\nprint(x)', 'x = 3\\nprint(x)\\nx', '#Just use a semi-colon. Useful if you are running a whole lot of cells at one time and are not interested in each output\\nx = 3\\nprint(x)\\nx\\n#x;', '#Just use a semi-colon. Useful if you are running a whole lot of cells at one time and are not interested in each output\\nx = 3\\nprint(x)\\nx\\n#x', '#Just use a semi-colon. Useful if you are running a whole lot of cells at one time and are not interested in each output\\nx = 3\\nprint(x)\\n\\nx;', '#Just use a semi-colon. Useful if you are running a whole lot of cells at one time and are not interested in each output\\nx = 3\\n#print(x)\\nx;', 'vars', 'vars()', 'whos', 'who', 'whos', 'x =3', 'vars', 'vars()', 'vars().items()'], '_oh': {3: 3, 6: 3, 7: 3, 8: 3, 11: <built-in function vars>, 12: {...}, 17: <built-in function vars>, 18: {...}}, '_dh': ['c:\\\\Users\\\\Ram\\\\Py Library\\\\jupyter-tips'], '_sh': <module 'IPython.core.shadowns' from 'c:\\\\Users\\\\Ram\\\\Anaconda3\\\\lib\\\\site-packages\\\\IPython\\\\core\\\\shadowns.py'>, 'In': ['', 'print(3)', 'print(3);', 'x = 3\\nx', 'x = 3\\nx;', 'x = 3\\nx\\nprint(x)', 'x = 3\\nprint(x)\\nx', '#Just use a semi-colon. Useful if you are running a whole lot of cells at one time and are not interested in each output\\nx = 3\\nprint(x)\\nx\\n#x;', '#Just use a semi-colon. Useful if you are running a whole lot of cells at one time and are not interested in each output\\nx = 3\\nprint(x)\\nx\\n#x', '#Just use a semi-colon. Useful if you are running a whole lot of cells at one time and are not interested in each output\\nx = 3\\nprint(x)\\n\\nx;', '#Just use a semi-colon. Useful if you are running a whole lot of cells at one time and are not interested in each output\\nx = 3\\n#print(x)\\nx;', 'vars', 'vars()', 'whos', 'who', 'whos', 'x =3', 'vars', 'vars()', 'vars().items()'], 'Out': {3: 3, 6: 3, 7: 3, 8: 3, 11: <built-in function vars>, 12: {...}, 17: <built-in function vars>, 18: {...}}, 'get_ipython': <bound method InteractiveShell.get_ipython of <ipykernel.zmqshell.ZMQInteractiveShell object at 0x0000000004C035C0>>, 'exit': <IPython.core.autocall.ZMQExitAutocall object at 0x0000000004C54320>, 'quit': <IPython.core.autocall.ZMQExitAutocall object at 0x0000000004C54320>, '_': {...}, '__': <built-in function vars>, '___': {...}, '_i': 'vars()', '_ii': 'vars', '_iii': 'x =3', '_i1': 'print(3)', '_i2': 'print(3);', '_i3': 'x = 3\\nx', 'x': 3, '_3': 3, '_i4': 'x = 3\\nx;', '_i5': 'x = 3\\nx\\nprint(x)', '_i6': 'x = 3\\nprint(x)\\nx', '_6': 3, '_i7': '#Just use a semi-colon. Useful if you are running a whole lot of cells at one time and are not interested in each output\\nx = 3\\nprint(x)\\nx\\n#x;', '_7': 3, '_i8': '#Just use a semi-colon. Useful if you are running a whole lot of cells at one time and are not interested in each output\\nx = 3\\nprint(x)\\nx\\n#x', '_8': 3, '_i9': '#Just use a semi-colon. Useful if you are running a whole lot of cells at one time and are not interested in each output\\nx = 3\\nprint(x)\\n\\nx;', '_i10': '#Just use a semi-colon. Useful if you are running a whole lot of cells at one time and are not interested in each output\\nx = 3\\n#print(x)\\nx;', '_i11': 'vars', '_11': <built-in function vars>, '_i12': 'vars()', '_12': {...}, '_i13': 'whos', '_i14': 'who', '_i15': 'whos', '_i16': 'x =3', '_i17': 'vars', '_17': <built-in function vars>, '_i18': 'vars()', '_18': {...}, '_i19': 'vars().items()'}), ('__', <built-in function vars>), ('___', {'__name__': '__main__', '__doc__': 'Automatically created module for IPython interactive environment', '__package__': None, '__loader__': None, '__spec__': None, '__builtin__': <module 'builtins' (built-in)>, '__builtins__': <module 'builtins' (built-in)>, '_ih': ['', 'print(3)', 'print(3);', 'x = 3\\nx', 'x = 3\\nx;', 'x = 3\\nx\\nprint(x)', 'x = 3\\nprint(x)\\nx', '#Just use a semi-colon. Useful if you are running a whole lot of cells at one time and are not interested in each output\\nx = 3\\nprint(x)\\nx\\n#x;', '#Just use a semi-colon. Useful if you are running a whole lot of cells at one time and are not interested in each output\\nx = 3\\nprint(x)\\nx\\n#x', '#Just use a semi-colon. Useful if you are running a whole lot of cells at one time and are not interested in each output\\nx = 3\\nprint(x)\\n\\nx;', '#Just use a semi-colon. Useful if you are running a whole lot of cells at one time and are not interested in each output\\nx = 3\\n#print(x)\\nx;', 'vars', 'vars()', 'whos', 'who', 'whos', 'x =3', 'vars', 'vars()', 'vars().items()'], '_oh': {3: 3, 6: 3, 7: 3, 8: 3, 11: <built-in function vars>, 12: {...}, 17: <built-in function vars>, 18: {...}}, '_dh': ['c:\\\\Users\\\\Ram\\\\Py Library\\\\jupyter-tips'], '_sh': <module 'IPython.core.shadowns' from 'c:\\\\Users\\\\Ram\\\\Anaconda3\\\\lib\\\\site-packages\\\\IPython\\\\core\\\\shadowns.py'>, 'In': ['', 'print(3)', 'print(3);', 'x = 3\\nx', 'x = 3\\nx;', 'x = 3\\nx\\nprint(x)', 'x = 3\\nprint(x)\\nx', '#Just use a semi-colon. Useful if you are running a whole lot of cells at one time and are not interested in each output\\nx = 3\\nprint(x)\\nx\\n#x;', '#Just use a semi-colon. Useful if you are running a whole lot of cells at one time and are not interested in each output\\nx = 3\\nprint(x)\\nx\\n#x', '#Just use a semi-colon. Useful if you are running a whole lot of cells at one time and are not interested in each output\\nx = 3\\nprint(x)\\n\\nx;', '#Just use a semi-colon. Useful if you are running a whole lot of cells at one time and are not interested in each output\\nx = 3\\n#print(x)\\nx;', 'vars', 'vars()', 'whos', 'who', 'whos', 'x =3', 'vars', 'vars()', 'vars().items()'], 'Out': {3: 3, 6: 3, 7: 3, 8: 3, 11: <built-in function vars>, 12: {...}, 17: <built-in function vars>, 18: {...}}, 'get_ipython': <bound method InteractiveShell.get_ipython of <ipykernel.zmqshell.ZMQInteractiveShell object at 0x0000000004C035C0>>, 'exit': <IPython.core.autocall.ZMQExitAutocall object at 0x0000000004C54320>, 'quit': <IPython.core.autocall.ZMQExitAutocall object at 0x0000000004C54320>, '_': {...}, '__': <built-in function vars>, '___': {...}, '_i': 'vars()', '_ii': 'vars', '_iii': 'x =3', '_i1': 'print(3)', '_i2': 'print(3);', '_i3': 'x = 3\\nx', 'x': 3, '_3': 3, '_i4': 'x = 3\\nx;', '_i5': 'x = 3\\nx\\nprint(x)', '_i6': 'x = 3\\nprint(x)\\nx', '_6': 3, '_i7': '#Just use a semi-colon. Useful if you are running a whole lot of cells at one time and are not interested in each output\\nx = 3\\nprint(x)\\nx\\n#x;', '_7': 3, '_i8': '#Just use a semi-colon. Useful if you are running a whole lot of cells at one time and are not interested in each output\\nx = 3\\nprint(x)\\nx\\n#x', '_8': 3, '_i9': '#Just use a semi-colon. Useful if you are running a whole lot of cells at one time and are not interested in each output\\nx = 3\\nprint(x)\\n\\nx;', '_i10': '#Just use a semi-colon. Useful if you are running a whole lot of cells at one time and are not interested in each output\\nx = 3\\n#print(x)\\nx;', '_i11': 'vars', '_11': <built-in function vars>, '_i12': 'vars()', '_12': {...}, '_i13': 'whos', '_i14': 'who', '_i15': 'whos', '_i16': 'x =3', '_i17': 'vars', '_17': <built-in function vars>, '_i18': 'vars()', '_18': {...}, '_i19': 'vars().items()'}), ('_i', 'vars()'), ('_ii', 'vars'), ('_iii', 'x =3'), ('_i1', 'print(3)'), ('_i2', 'print(3);'), ('_i3', 'x = 3\\nx'), ('x', 3), ('_3', 3), ('_i4', 'x = 3\\nx;'), ('_i5', 'x = 3\\nx\\nprint(x)'), ('_i6', 'x = 3\\nprint(x)\\nx'), ('_6', 3), ('_i7', '#Just use a semi-colon. Useful if you are running a whole lot of cells at one time and are not interested in each output\\nx = 3\\nprint(x)\\nx\\n#x;'), ('_7', 3), ('_i8', '#Just use a semi-colon. Useful if you are running a whole lot of cells at one time and are not interested in each output\\nx = 3\\nprint(x)\\nx\\n#x'), ('_8', 3), ('_i9', '#Just use a semi-colon. Useful if you are running a whole lot of cells at one time and are not interested in each output\\nx = 3\\nprint(x)\\n\\nx;'), ('_i10', '#Just use a semi-colon. Useful if you are running a whole lot of cells at one time and are not interested in each output\\nx = 3\\n#print(x)\\nx;'), ('_i11', 'vars'), ('_11', <built-in function vars>), ('_i12', 'vars()'), ('_12', {'__name__': '__main__', '__doc__': 'Automatically created module for IPython interactive environment', '__package__': None, '__loader__': None, '__spec__': None, '__builtin__': <module 'builtins' (built-in)>, '__builtins__': <module 'builtins' (built-in)>, '_ih': ['', 'print(3)', 'print(3);', 'x = 3\\nx', 'x = 3\\nx;', 'x = 3\\nx\\nprint(x)', 'x = 3\\nprint(x)\\nx', '#Just use a semi-colon. Useful if you are running a whole lot of cells at one time and are not interested in each output\\nx = 3\\nprint(x)\\nx\\n#x;', '#Just use a semi-colon. Useful if you are running a whole lot of cells at one time and are not interested in each output\\nx = 3\\nprint(x)\\nx\\n#x', '#Just use a semi-colon. Useful if you are running a whole lot of cells at one time and are not interested in each output\\nx = 3\\nprint(x)\\n\\nx;', '#Just use a semi-colon. Useful if you are running a whole lot of cells at one time and are not interested in each output\\nx = 3\\n#print(x)\\nx;', 'vars', 'vars()', 'whos', 'who', 'whos', 'x =3', 'vars', 'vars()', 'vars().items()'], '_oh': {3: 3, 6: 3, 7: 3, 8: 3, 11: <built-in function vars>, 12: {...}, 17: <built-in function vars>, 18: {...}}, '_dh': ['c:\\\\Users\\\\Ram\\\\Py Library\\\\jupyter-tips'], '_sh': <module 'IPython.core.shadowns' from 'c:\\\\Users\\\\Ram\\\\Anaconda3\\\\lib\\\\site-packages\\\\IPython\\\\core\\\\shadowns.py'>, 'In': ['', 'print(3)', 'print(3);', 'x = 3\\nx', 'x = 3\\nx;', 'x = 3\\nx\\nprint(x)', 'x = 3\\nprint(x)\\nx', '#Just use a semi-colon. Useful if you are running a whole lot of cells at one time and are not interested in each output\\nx = 3\\nprint(x)\\nx\\n#x;', '#Just use a semi-colon. Useful if you are running a whole lot of cells at one time and are not interested in each output\\nx = 3\\nprint(x)\\nx\\n#x', '#Just use a semi-colon. Useful if you are running a whole lot of cells at one time and are not interested in each output\\nx = 3\\nprint(x)\\n\\nx;', '#Just use a semi-colon. Useful if you are running a whole lot of cells at one time and are not interested in each output\\nx = 3\\n#print(x)\\nx;', 'vars', 'vars()', 'whos', 'who', 'whos', 'x =3', 'vars', 'vars()', 'vars().items()'], 'Out': {3: 3, 6: 3, 7: 3, 8: 3, 11: <built-in function vars>, 12: {...}, 17: <built-in function vars>, 18: {...}}, 'get_ipython': <bound method InteractiveShell.get_ipython of <ipykernel.zmqshell.ZMQInteractiveShell object at 0x0000000004C035C0>>, 'exit': <IPython.core.autocall.ZMQExitAutocall object at 0x0000000004C54320>, 'quit': <IPython.core.autocall.ZMQExitAutocall object at 0x0000000004C54320>, '_': {...}, '__': <built-in function vars>, '___': {...}, '_i': 'vars()', '_ii': 'vars', '_iii': 'x =3', '_i1': 'print(3)', '_i2': 'print(3);', '_i3': 'x = 3\\nx', 'x': 3, '_3': 3, '_i4': 'x = 3\\nx;', '_i5': 'x = 3\\nx\\nprint(x)', '_i6': 'x = 3\\nprint(x)\\nx', '_6': 3, '_i7': '#Just use a semi-colon. Useful if you are running a whole lot of cells at one time and are not interested in each output\\nx = 3\\nprint(x)\\nx\\n#x;', '_7': 3, '_i8': '#Just use a semi-colon. Useful if you are running a whole lot of cells at one time and are not interested in each output\\nx = 3\\nprint(x)\\nx\\n#x', '_8': 3, '_i9': '#Just use a semi-colon. Useful if you are running a whole lot of cells at one time and are not interested in each output\\nx = 3\\nprint(x)\\n\\nx;', '_i10': '#Just use a semi-colon. Useful if you are running a whole lot of cells at one time and are not interested in each output\\nx = 3\\n#print(x)\\nx;', '_i11': 'vars', '_11': <built-in function vars>, '_i12': 'vars()', '_12': {...}, '_i13': 'whos', '_i14': 'who', '_i15': 'whos', '_i16': 'x =3', '_i17': 'vars', '_17': <built-in function vars>, '_i18': 'vars()', '_18': {...}, '_i19': 'vars().items()'}), ('_i13', 'whos'), ('_i14', 'who'), ('_i15', 'whos'), ('_i16', 'x =3'), ('_i17', 'vars'), ('_17', <built-in function vars>), ('_i18', 'vars()'), ('_18', {'__name__': '__main__', '__doc__': 'Automatically created module for IPython interactive environment', '__package__': None, '__loader__': None, '__spec__': None, '__builtin__': <module 'builtins' (built-in)>, '__builtins__': <module 'builtins' (built-in)>, '_ih': ['', 'print(3)', 'print(3);', 'x = 3\\nx', 'x = 3\\nx;', 'x = 3\\nx\\nprint(x)', 'x = 3\\nprint(x)\\nx', '#Just use a semi-colon. Useful if you are running a whole lot of cells at one time and are not interested in each output\\nx = 3\\nprint(x)\\nx\\n#x;', '#Just use a semi-colon. Useful if you are running a whole lot of cells at one time and are not interested in each output\\nx = 3\\nprint(x)\\nx\\n#x', '#Just use a semi-colon. Useful if you are running a whole lot of cells at one time and are not interested in each output\\nx = 3\\nprint(x)\\n\\nx;', '#Just use a semi-colon. Useful if you are running a whole lot of cells at one time and are not interested in each output\\nx = 3\\n#print(x)\\nx;', 'vars', 'vars()', 'whos', 'who', 'whos', 'x =3', 'vars', 'vars()', 'vars().items()'], '_oh': {3: 3, 6: 3, 7: 3, 8: 3, 11: <built-in function vars>, 12: {...}, 17: <built-in function vars>, 18: {...}}, '_dh': ['c:\\\\Users\\\\Ram\\\\Py Library\\\\jupyter-tips'], '_sh': <module 'IPython.core.shadowns' from 'c:\\\\Users\\\\Ram\\\\Anaconda3\\\\lib\\\\site-packages\\\\IPython\\\\core\\\\shadowns.py'>, 'In': ['', 'print(3)', 'print(3);', 'x = 3\\nx', 'x = 3\\nx;', 'x = 3\\nx\\nprint(x)', 'x = 3\\nprint(x)\\nx', '#Just use a semi-colon. Useful if you are running a whole lot of cells at one time and are not interested in each output\\nx = 3\\nprint(x)\\nx\\n#x;', '#Just use a semi-colon. Useful if you are running a whole lot of cells at one time and are not interested in each output\\nx = 3\\nprint(x)\\nx\\n#x', '#Just use a semi-colon. Useful if you are running a whole lot of cells at one time and are not interested in each output\\nx = 3\\nprint(x)\\n\\nx;', '#Just use a semi-colon. Useful if you are running a whole lot of cells at one time and are not interested in each output\\nx = 3\\n#print(x)\\nx;', 'vars', 'vars()', 'whos', 'who', 'whos', 'x =3', 'vars', 'vars()', 'vars().items()'], 'Out': {3: 3, 6: 3, 7: 3, 8: 3, 11: <built-in function vars>, 12: {...}, 17: <built-in function vars>, 18: {...}}, 'get_ipython': <bound method InteractiveShell.get_ipython of <ipykernel.zmqshell.ZMQInteractiveShell object at 0x0000000004C035C0>>, 'exit': <IPython.core.autocall.ZMQExitAutocall object at 0x0000000004C54320>, 'quit': <IPython.core.autocall.ZMQExitAutocall object at 0x0000000004C54320>, '_': {...}, '__': <built-in function vars>, '___': {...}, '_i': 'vars()', '_ii': 'vars', '_iii': 'x =3', '_i1': 'print(3)', '_i2': 'print(3);', '_i3': 'x = 3\\nx', 'x': 3, '_3': 3, '_i4': 'x = 3\\nx;', '_i5': 'x = 3\\nx\\nprint(x)', '_i6': 'x = 3\\nprint(x)\\nx', '_6': 3, '_i7': '#Just use a semi-colon. Useful if you are running a whole lot of cells at one time and are not interested in each output\\nx = 3\\nprint(x)\\nx\\n#x;', '_7': 3, '_i8': '#Just use a semi-colon. Useful if you are running a whole lot of cells at one time and are not interested in each output\\nx = 3\\nprint(x)\\nx\\n#x', '_8': 3, '_i9': '#Just use a semi-colon. Useful if you are running a whole lot of cells at one time and are not interested in each output\\nx = 3\\nprint(x)\\n\\nx;', '_i10': '#Just use a semi-colon. Useful if you are running a whole lot of cells at one time and are not interested in each output\\nx = 3\\n#print(x)\\nx;', '_i11': 'vars', '_11': <built-in function vars>, '_i12': 'vars()', '_12': {...}, '_i13': 'whos', '_i14': 'who', '_i15': 'whos', '_i16': 'x =3', '_i17': 'vars', '_17': <built-in function vars>, '_i18': 'vars()', '_18': {...}, '_i19': 'vars().items()'}), ('_i19', 'vars().items()')])"
      ]
     },
     "execution_count": 19,
     "metadata": {},
     "output_type": "execute_result"
    }
   ],
   "source": [
    "vars().items()"
   ]
  },
  {
   "cell_type": "code",
   "execution_count": 20,
   "metadata": {
    "collapsed": true
   },
   "outputs": [],
   "source": [
    "import time\n",
    "time.sleep(10)"
   ]
  },
  {
   "cell_type": "code",
   "execution_count": 22,
   "metadata": {},
   "outputs": [
    {
     "ename": "SyntaxError",
     "evalue": "can't delete literal (<ipython-input-22-6119dbdcbb16>, line 1)",
     "output_type": "error",
     "traceback": [
      "\u001b[0;36m  File \u001b[0;32m\"<ipython-input-22-6119dbdcbb16>\"\u001b[0;36m, line \u001b[0;32m1\u001b[0m\n\u001b[0;31m    del 2\u001b[0m\n\u001b[0m       ^\u001b[0m\n\u001b[0;31mSyntaxError\u001b[0m\u001b[0;31m:\u001b[0m can't delete literal\n"
     ]
    }
   ],
   "source": [
    "del 2"
   ]
  },
  {
   "cell_type": "code",
   "execution_count": 60,
   "metadata": {},
   "outputs": [
    {
     "data": {
      "application/json": {
       "cell": {
        "!": "OSMagics",
        "HTML": "Other",
        "SVG": "Other",
        "bash": "Other",
        "capture": "ExecutionMagics",
        "cmd": "Other",
        "debug": "ExecutionMagics",
        "file": "Other",
        "html": "DisplayMagics",
        "javascript": "DisplayMagics",
        "js": "DisplayMagics",
        "latex": "DisplayMagics",
        "perl": "Other",
        "prun": "ExecutionMagics",
        "pypy": "Other",
        "python": "Other",
        "python2": "Other",
        "python3": "Other",
        "ruby": "Other",
        "script": "ScriptMagics",
        "sh": "Other",
        "svg": "DisplayMagics",
        "sx": "OSMagics",
        "system": "OSMagics",
        "time": "ExecutionMagics",
        "timeit": "ExecutionMagics",
        "writefile": "OSMagics"
       },
       "line": {
        "alias": "OSMagics",
        "alias_magic": "BasicMagics",
        "autocall": "AutoMagics",
        "automagic": "AutoMagics",
        "autosave": "KernelMagics",
        "bookmark": "OSMagics",
        "cd": "OSMagics",
        "clear": "KernelMagics",
        "cls": "KernelMagics",
        "colors": "BasicMagics",
        "config": "ConfigMagics",
        "connect_info": "KernelMagics",
        "copy": "Other",
        "ddir": "Other",
        "debug": "ExecutionMagics",
        "dhist": "OSMagics",
        "dirs": "OSMagics",
        "doctest_mode": "BasicMagics",
        "echo": "Other",
        "ed": "Other",
        "edit": "KernelMagics",
        "env": "OSMagics",
        "gui": "BasicMagics",
        "hist": "Other",
        "history": "HistoryMagics",
        "killbgscripts": "ScriptMagics",
        "ldir": "Other",
        "less": "KernelMagics",
        "load": "CodeMagics",
        "load_ext": "ExtensionMagics",
        "loadpy": "CodeMagics",
        "logoff": "LoggingMagics",
        "logon": "LoggingMagics",
        "logstart": "LoggingMagics",
        "logstate": "LoggingMagics",
        "logstop": "LoggingMagics",
        "ls": "Other",
        "lsmagic": "BasicMagics",
        "macro": "ExecutionMagics",
        "magic": "BasicMagics",
        "matplotlib": "PylabMagics",
        "mkdir": "Other",
        "more": "KernelMagics",
        "notebook": "BasicMagics",
        "page": "BasicMagics",
        "pastebin": "CodeMagics",
        "pdb": "ExecutionMagics",
        "pdef": "NamespaceMagics",
        "pdoc": "NamespaceMagics",
        "pfile": "NamespaceMagics",
        "pinfo": "NamespaceMagics",
        "pinfo2": "NamespaceMagics",
        "popd": "OSMagics",
        "pprint": "BasicMagics",
        "precision": "BasicMagics",
        "profile": "BasicMagics",
        "prun": "ExecutionMagics",
        "psearch": "NamespaceMagics",
        "psource": "NamespaceMagics",
        "pushd": "OSMagics",
        "pwd": "OSMagics",
        "pycat": "OSMagics",
        "pylab": "PylabMagics",
        "qtconsole": "KernelMagics",
        "quickref": "BasicMagics",
        "recall": "HistoryMagics",
        "rehashx": "OSMagics",
        "reload_ext": "ExtensionMagics",
        "ren": "Other",
        "rep": "Other",
        "rerun": "HistoryMagics",
        "reset": "NamespaceMagics",
        "reset_selective": "NamespaceMagics",
        "rmdir": "Other",
        "run": "ExecutionMagics",
        "save": "CodeMagics",
        "sc": "OSMagics",
        "set_env": "OSMagics",
        "store": "StoreMagics",
        "sx": "OSMagics",
        "system": "OSMagics",
        "tb": "ExecutionMagics",
        "time": "ExecutionMagics",
        "timeit": "ExecutionMagics",
        "unalias": "OSMagics",
        "unload_ext": "ExtensionMagics",
        "who": "NamespaceMagics",
        "who_ls": "NamespaceMagics",
        "whos": "NamespaceMagics",
        "xdel": "NamespaceMagics",
        "xmode": "BasicMagics"
       }
      },
      "text/plain": [
       "Available line magics:\n",
       "%alias  %alias_magic  %autocall  %automagic  %autosave  %bookmark  %cd  %clear  %cls  %colors  %config  %connect_info  %copy  %ddir  %debug  %dhist  %dirs  %doctest_mode  %echo  %ed  %edit  %env  %gui  %hist  %history  %killbgscripts  %ldir  %less  %load  %load_ext  %loadpy  %logoff  %logon  %logstart  %logstate  %logstop  %ls  %lsmagic  %macro  %magic  %matplotlib  %mkdir  %more  %notebook  %page  %pastebin  %pdb  %pdef  %pdoc  %pfile  %pinfo  %pinfo2  %popd  %pprint  %precision  %profile  %prun  %psearch  %psource  %pushd  %pwd  %pycat  %pylab  %qtconsole  %quickref  %recall  %rehashx  %reload_ext  %ren  %rep  %rerun  %reset  %reset_selective  %rmdir  %run  %save  %sc  %set_env  %store  %sx  %system  %tb  %time  %timeit  %unalias  %unload_ext  %who  %who_ls  %whos  %xdel  %xmode\n",
       "\n",
       "Available cell magics:\n",
       "%%!  %%HTML  %%SVG  %%bash  %%capture  %%cmd  %%debug  %%file  %%html  %%javascript  %%js  %%latex  %%perl  %%prun  %%pypy  %%python  %%python2  %%python3  %%ruby  %%script  %%sh  %%svg  %%sx  %%system  %%time  %%timeit  %%writefile\n",
       "\n",
       "Automagic is ON, % prefix IS NOT needed for line magics."
      ]
     },
     "execution_count": 60,
     "metadata": {},
     "output_type": "execute_result"
    }
   ],
   "source": [
    "%lsmagic"
   ]
  },
  {
   "cell_type": "code",
   "execution_count": 67,
   "metadata": {},
   "outputs": [],
   "source": [
    "%matplotlib inline"
   ]
  },
  {
   "cell_type": "code",
   "execution_count": 69,
   "metadata": {},
   "outputs": [
    {
     "name": "stdout",
     "output_type": "stream",
     "text": [
      "Variable      Type        Data/Info\n",
      "-----------------------------------\n",
      "a_long_name   int         2\n",
      "abc           function    <function abc at 0x0000000005C80268>\n",
      "numpy         module      <module 'numpy' from 'c:\\<...>ges\\\\numpy\\\\__init__.py'>\n",
      "sys           module      <module 'sys' (built-in)>\n",
      "time          module      <module 'time' (built-in)>\n",
      "x             int         3\n"
     ]
    }
   ],
   "source": [
    "whos"
   ]
  },
  {
   "cell_type": "code",
   "execution_count": 30,
   "metadata": {
    "collapsed": true
   },
   "outputs": [
    {
     "data": {
      "text/plain": [
       "['ArithmeticError',\n",
       " 'AssertionError',\n",
       " 'AttributeError',\n",
       " 'BaseException',\n",
       " 'BlockingIOError',\n",
       " 'BrokenPipeError',\n",
       " 'BufferError',\n",
       " 'BytesWarning',\n",
       " 'ChildProcessError',\n",
       " 'ConnectionAbortedError',\n",
       " 'ConnectionError',\n",
       " 'ConnectionRefusedError',\n",
       " 'ConnectionResetError',\n",
       " 'DeprecationWarning',\n",
       " 'EOFError',\n",
       " 'Ellipsis',\n",
       " 'EnvironmentError',\n",
       " 'Exception',\n",
       " 'False',\n",
       " 'FileExistsError',\n",
       " 'FileNotFoundError',\n",
       " 'FloatingPointError',\n",
       " 'FutureWarning',\n",
       " 'GeneratorExit',\n",
       " 'IOError',\n",
       " 'ImportError',\n",
       " 'ImportWarning',\n",
       " 'IndentationError',\n",
       " 'IndexError',\n",
       " 'InterruptedError',\n",
       " 'IsADirectoryError',\n",
       " 'KeyError',\n",
       " 'KeyboardInterrupt',\n",
       " 'LookupError',\n",
       " 'MemoryError',\n",
       " 'ModuleNotFoundError',\n",
       " 'NameError',\n",
       " 'None',\n",
       " 'NotADirectoryError',\n",
       " 'NotImplemented',\n",
       " 'NotImplementedError',\n",
       " 'OSError',\n",
       " 'OverflowError',\n",
       " 'PendingDeprecationWarning',\n",
       " 'PermissionError',\n",
       " 'ProcessLookupError',\n",
       " 'RecursionError',\n",
       " 'ReferenceError',\n",
       " 'ResourceWarning',\n",
       " 'RuntimeError',\n",
       " 'RuntimeWarning',\n",
       " 'StopAsyncIteration',\n",
       " 'StopIteration',\n",
       " 'SyntaxError',\n",
       " 'SyntaxWarning',\n",
       " 'SystemError',\n",
       " 'SystemExit',\n",
       " 'TabError',\n",
       " 'TimeoutError',\n",
       " 'True',\n",
       " 'TypeError',\n",
       " 'UnboundLocalError',\n",
       " 'UnicodeDecodeError',\n",
       " 'UnicodeEncodeError',\n",
       " 'UnicodeError',\n",
       " 'UnicodeTranslateError',\n",
       " 'UnicodeWarning',\n",
       " 'UserWarning',\n",
       " 'ValueError',\n",
       " 'Warning',\n",
       " 'WindowsError',\n",
       " 'ZeroDivisionError',\n",
       " '__IPYTHON__',\n",
       " '__build_class__',\n",
       " '__debug__',\n",
       " '__doc__',\n",
       " '__import__',\n",
       " '__loader__',\n",
       " '__name__',\n",
       " '__package__',\n",
       " '__spec__',\n",
       " 'abs',\n",
       " 'all',\n",
       " 'any',\n",
       " 'ascii',\n",
       " 'bin',\n",
       " 'bool',\n",
       " 'bytearray',\n",
       " 'bytes',\n",
       " 'callable',\n",
       " 'chr',\n",
       " 'classmethod',\n",
       " 'compile',\n",
       " 'complex',\n",
       " 'copyright',\n",
       " 'credits',\n",
       " 'delattr',\n",
       " 'dict',\n",
       " 'dir',\n",
       " 'divmod',\n",
       " 'dreload',\n",
       " 'enumerate',\n",
       " 'eval',\n",
       " 'exec',\n",
       " 'filter',\n",
       " 'float',\n",
       " 'format',\n",
       " 'frozenset',\n",
       " 'get_ipython',\n",
       " 'getattr',\n",
       " 'globals',\n",
       " 'hasattr',\n",
       " 'hash',\n",
       " 'help',\n",
       " 'hex',\n",
       " 'id',\n",
       " 'input',\n",
       " 'int',\n",
       " 'isinstance',\n",
       " 'issubclass',\n",
       " 'iter',\n",
       " 'len',\n",
       " 'license',\n",
       " 'list',\n",
       " 'locals',\n",
       " 'map',\n",
       " 'max',\n",
       " 'memoryview',\n",
       " 'min',\n",
       " 'next',\n",
       " 'object',\n",
       " 'oct',\n",
       " 'open',\n",
       " 'ord',\n",
       " 'pow',\n",
       " 'print',\n",
       " 'property',\n",
       " 'range',\n",
       " 'repr',\n",
       " 'reversed',\n",
       " 'round',\n",
       " 'set',\n",
       " 'setattr',\n",
       " 'slice',\n",
       " 'sorted',\n",
       " 'staticmethod',\n",
       " 'str',\n",
       " 'sum',\n",
       " 'super',\n",
       " 'tuple',\n",
       " 'type',\n",
       " 'vars',\n",
       " 'zip']"
      ]
     },
     "execution_count": 30,
     "metadata": {},
     "output_type": "execute_result"
    }
   ],
   "source": [
    "dir(__builtin__)"
   ]
  },
  {
   "cell_type": "code",
   "execution_count": 31,
   "metadata": {
    "collapsed": true
   },
   "outputs": [],
   "source": [
    "a_long_name = 2"
   ]
  },
  {
   "cell_type": "code",
   "execution_count": 32,
   "metadata": {
    "collapsed": true
   },
   "outputs": [],
   "source": [
    "import sys\n",
    "print()"
   ]
  },
  {
   "cell_type": "code",
   "execution_count": 45,
   "metadata": {},
   "outputs": [],
   "source": [
    "#import numpy\n",
    "#numpy??\n",
    "numpy?\n"
   ]
  },
  {
   "cell_type": "code",
   "execution_count": 50,
   "metadata": {
    "collapsed": true
   },
   "outputs": [],
   "source": [
    "def abc(k, l=2):\n",
    "    \"\"\" help on ABC \"\"\"\n",
    "    print(\"abc\")"
   ]
  },
  {
   "cell_type": "code",
   "execution_count": 59,
   "metadata": {},
   "outputs": [],
   "source": [
    "?x\n",
    "#Get help on any variable...\n",
    "\n",
    "#ESC to kill the help. DON'T"
   ]
  },
  {
   "cell_type": "markdown",
   "metadata": {},
   "source": [
    "<div class=\"alert alert-block alert-warning\">Example: Use yellow boxes for examples that are not inside code cells, or use for mathematical formulas if needed.</div>\n",
    "<div class=\"alert alert-block alert-success\">Up to you: Use green boxes sparingly, and only for some specific purpose that the other boxes can't cover. For example, if you have a lot of related content to link to, maybe you decide to use green boxes for related links from each section of a notebook. </div>\n",
    "\n",
    "<div class=\"alert alert-block alert-danger\">**Just don't: In general, just avoid the red boxes.**</div>"
   ]
  },
  {
   "cell_type": "code",
   "execution_count": null,
   "metadata": {
    "collapsed": true
   },
   "outputs": [],
   "source": [
    "<div class=\"alert alert-block alert-warning\">Example: Use yellow boxes for examples that are not inside code cells, or use for mathematical formulas if needed.</div>\n",
    "<div class=\"alert alert-block alert-success\">Up to you: Use green boxes sparingly, and only for some specific purpose that the other boxes can't cover. For example, if you have a lot of related content to link to, maybe you decide to use green boxes for related links from each section of a notebook. </div>\n",
    "\n",
    "<div class=\"alert alert-block alert-danger\">**Just don't: In general, just avoid the red boxes.**</div>"
   ]
  }
 ],
 "metadata": {
  "kernelspec": {
   "display_name": "Python 3",
   "language": "python",
   "name": "python3"
  },
  "language_info": {
   "codemirror_mode": {
    "name": "ipython",
    "version": 3
   },
   "file_extension": ".py",
   "mimetype": "text/x-python",
   "name": "python",
   "nbconvert_exporter": "python",
   "pygments_lexer": "ipython3",
   "version": "3.6.0"
  }
 },
 "nbformat": 4,
 "nbformat_minor": 2
}
